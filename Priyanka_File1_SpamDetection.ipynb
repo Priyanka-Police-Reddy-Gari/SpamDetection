{
  "nbformat": 4,
  "nbformat_minor": 0,
  "metadata": {
    "colab": {
      "provenance": [],
      "gpuType": "T4",
      "toc_visible": true,
      "include_colab_link": true
    },
    "kernelspec": {
      "name": "python3",
      "display_name": "Python 3"
    },
    "language_info": {
      "name": "python"
    },
    "accelerator": "GPU"
  },
  "cells": [
    {
      "cell_type": "markdown",
      "metadata": {
        "id": "view-in-github",
        "colab_type": "text"
      },
      "source": [
        "<a href=\"https://colab.research.google.com/github/Priyanka-Police-Reddy-Gari/SpamDetection/blob/main/Priyanka_File1_SpamDetection.ipynb\" target=\"_parent\"><img src=\"https://colab.research.google.com/assets/colab-badge.svg\" alt=\"Open In Colab\"/></a>"
      ]
    },
    {
      "cell_type": "markdown",
      "metadata": {
        "id": "_mJQGbTFOCAx"
      },
      "source": [
        "<h1 align='center'><b><font color='indianred'></p>Spam Detection</b></h1>\n",
        "\n",
        "<font color = 'indianred' size = 4 >**Read the instructions** </font>\n"
      ]
    },
    {
      "cell_type": "markdown",
      "metadata": {
        "id": "cXeG6ZQ4OVDj"
      },
      "source": [
        "# <font color='indianred'> **Loading the dataset**\n",
        "\n",
        "- For this We will usespam dataset from kaggle which can be found from [this](https://www.kaggle.com/uciml/sms-spam-collection-dataset) link. We can download this data and either upload it in google drive or in colab workspace. Load the data in pandas dataframe.\n",
        "\n",
        "- There are only two useful columns. These columns are related to (1) label (ham and spam) and the (2) text of email.\n",
        "\n",
        "- Renamed columns as label and message\n",
        "\n",
        "- Finding the %  ham amd spam in the data.\n",
        "\n",
        "\n",
        "\n"
      ]
    },
    {
      "cell_type": "code",
      "source": [
        "import pandas as pd\n",
        "from google.colab import drive\n",
        "drive.mount('/content/drive')\n",
        "spam_data = pd.read_csv('/content/drive/MyDrive/NLP/Assignment_2/spam.csv',encoding='latin1')\n",
        "print(spam_data)"
      ],
      "metadata": {
        "id": "JRfuqO8Cc06k",
        "colab": {
          "base_uri": "https://localhost:8080/"
        },
        "outputId": "35de86bd-e5b7-4338-9d4a-3a2d3b8be967"
      },
      "execution_count": null,
      "outputs": [
        {
          "output_type": "stream",
          "name": "stdout",
          "text": [
            "Mounted at /content/drive\n",
            "        v1                                                 v2 Unnamed: 2  \\\n",
            "0      ham  Go until jurong point, crazy.. Available only ...        NaN   \n",
            "1      ham                      Ok lar... Joking wif u oni...        NaN   \n",
            "2     spam  Free entry in 2 a wkly comp to win FA Cup fina...        NaN   \n",
            "3      ham  U dun say so early hor... U c already then say...        NaN   \n",
            "4      ham  Nah I don't think he goes to usf, he lives aro...        NaN   \n",
            "...    ...                                                ...        ...   \n",
            "5567  spam  This is the 2nd time we have tried 2 contact u...        NaN   \n",
            "5568   ham              Will Ì_ b going to esplanade fr home?        NaN   \n",
            "5569   ham  Pity, * was in mood for that. So...any other s...        NaN   \n",
            "5570   ham  The guy did some bitching but I acted like i'd...        NaN   \n",
            "5571   ham                         Rofl. Its true to its name        NaN   \n",
            "\n",
            "     Unnamed: 3 Unnamed: 4  \n",
            "0           NaN        NaN  \n",
            "1           NaN        NaN  \n",
            "2           NaN        NaN  \n",
            "3           NaN        NaN  \n",
            "4           NaN        NaN  \n",
            "...         ...        ...  \n",
            "5567        NaN        NaN  \n",
            "5568        NaN        NaN  \n",
            "5569        NaN        NaN  \n",
            "5570        NaN        NaN  \n",
            "5571        NaN        NaN  \n",
            "\n",
            "[5572 rows x 5 columns]\n"
          ]
        }
      ]
    },
    {
      "cell_type": "code",
      "source": [
        "columns_to_delete = ['Unnamed: 2', 'Unnamed: 3', 'Unnamed: 4' ]\n",
        "spam_df = spam_data.drop(columns=columns_to_delete)\n",
        "print(spam_df.head())"
      ],
      "metadata": {
        "colab": {
          "base_uri": "https://localhost:8080/"
        },
        "id": "ROwkWLpFhstt",
        "outputId": "4953d654-f8dd-4ec8-cddd-4034c053eb83"
      },
      "execution_count": null,
      "outputs": [
        {
          "output_type": "stream",
          "name": "stdout",
          "text": [
            "     v1                                                 v2\n",
            "0   ham  Go until jurong point, crazy.. Available only ...\n",
            "1   ham                      Ok lar... Joking wif u oni...\n",
            "2  spam  Free entry in 2 a wkly comp to win FA Cup fina...\n",
            "3   ham  U dun say so early hor... U c already then say...\n",
            "4   ham  Nah I don't think he goes to usf, he lives aro...\n"
          ]
        }
      ]
    },
    {
      "cell_type": "code",
      "source": [
        "spam_df = spam_df.rename(columns={'v1':'label','v2':'message'})\n",
        "print(spam_df.columns)\n",
        "print(spam_df.head())"
      ],
      "metadata": {
        "colab": {
          "base_uri": "https://localhost:8080/"
        },
        "id": "Os9ZDtMgi-8T",
        "outputId": "a1daf954-7f6d-4a79-a54b-b4c5e5dcb800"
      },
      "execution_count": null,
      "outputs": [
        {
          "output_type": "stream",
          "name": "stdout",
          "text": [
            "Index(['label', 'message'], dtype='object')\n",
            "  label                                            message\n",
            "0   ham  Go until jurong point, crazy.. Available only ...\n",
            "1   ham                      Ok lar... Joking wif u oni...\n",
            "2  spam  Free entry in 2 a wkly comp to win FA Cup fina...\n",
            "3   ham  U dun say so early hor... U c already then say...\n",
            "4   ham  Nah I don't think he goes to usf, he lives aro...\n"
          ]
        }
      ]
    },
    {
      "cell_type": "code",
      "source": [
        "label_count = spam_df['label'].value_counts(normalize=True)\n",
        "ham_percentage = label_count.get('ham',0) * 100\n",
        "spam_percentage = label_count.get('spam',0) * 100\n",
        "print(\"Percentage of ham\",ham_percentage,\"%\")\n",
        "print(\"Percentage of spam\",spam_percentage,\"%\")"
      ],
      "metadata": {
        "colab": {
          "base_uri": "https://localhost:8080/"
        },
        "id": "3gc7PJqdkR6_",
        "outputId": "391d4323-09fb-4019-c468-d1925cd1a5f4"
      },
      "execution_count": null,
      "outputs": [
        {
          "output_type": "stream",
          "name": "stdout",
          "text": [
            "Percentage of ham 86.59368269921033 %\n",
            "Percentage of spam 13.406317300789663 %\n"
          ]
        }
      ]
    },
    {
      "cell_type": "markdown",
      "metadata": {
        "id": "pNdWCViagO4F"
      },
      "source": [
        "# <font color='indianred'> **Providing the metric for evaluating model**</font>\n",
        "\n",
        "As We will notice, the  data is highly imbalanced (most messages are labelled as ham and only few are labelled as spam). Always predicting ham will give us very good accuracy (close to 90%). So we need to choose a different metric.\n",
        "\n",
        "Task: Providing the metric you will choose to evaluate your model. Explaining why this is an appropriate metric for this case."
      ]
    },
    {
      "cell_type": "markdown",
      "source": [
        "Precision is the ratio of True positives by sum of True positives and False Positives. This is an important metrics when the cost of False positive is high. Precision identifies the Spam message amoung all messages predicted as spam.\n",
        "\n",
        "Whereas Recall is the ratio of True positives by sum of True positives and False Negative. This is important when cost of False Negative is High.Recall correctly identifies all actual spam messages.\n",
        "\n",
        "By considering both **F1 score** would be perfect evaluation metric which provides balance between both precision and Recall. F1 score is suitable when there is uneven class dsitribution like we have inthis scenario and the goal of F1 score is to achieve a balance between False Positives and False Negatives where the cost of both varies.\n",
        "\n",
        "Or by considering Just Precision."
      ],
      "metadata": {
        "id": "JWWeoLOzGDCg"
      }
    },
    {
      "cell_type": "markdown",
      "metadata": {
        "id": "rH8_mvGhiThV"
      },
      "source": [
        "# <font color='indianred'> **Classification Pipelines**</font>\n",
        "\n",
        "We learned Data processing, Featurization such as CountVectorizer, TFIDFVectorizer, and also Feature Engineering.\n",
        "* We will now use folllowing methods to create fearures which you can use in your model.\n",
        "\n",
        "    1. Sparse Embeddings (TF-IDF)\n",
        "    2. Feature Engineering (see examples below)\n",
        "    3. Sparse Embeddings (TF-IDF) + Feature Engineering\n",
        "\n",
        "**Approach:**\n",
        "\n",
        "<font color='indianred'> ****Using a smaller subset of dataset (e.g. 5-10 %) to evaluate the three pipelines . Based on our analysis (e.g. model score, learning curves) , choosing one pipeline from the three. Provided rational for choosing the pipleine. Training only the final pipeline on randomly selected larger subset (e.g. 40%) of the data.** </font>\n",
        "\n",
        "**Requirements:**\n",
        "\n",
        "1. We can use any ML model (Logistic Regression, XgBoost) for the classification. We will need to tune the **model for imbalanced dataset** (The link on XGBoost tutorial for imbalanced data: https://machinelearningmastery.com/xgboost-for-imbalanced-classification/).\n",
        "\n",
        "2. For feature engineering, We can choose from the examples below. We do not  have to use all of them. We can add other featues as well. Thought about what features can distinguish a spam from a regular email. Some examples :\n",
        "\n",
        ">> Count of following  (Words, characters, digits, exclamation marks, numbers, Nouns, ProperNouns, AUX, VERBS, Adjectives, named entities, spelling mistakes (see the link on how to get spelling mistakes https://pypi.org/project/pyspellchecker/).\n",
        "\n",
        "3. For Sparse embeddings we will use **tfidf vectorization**. We need to choose appopriate parameters e.g. min_df, max_df, max_faetures, n-grams etc.).\n",
        "\n",
        "4. Thought carefully about the pre-processing we will do.\n",
        "\n",
        "Tip: <font color = 'indianred'>**Using GridSearch for hyperparameter tuning might take a lot of time So tried using RandomizedSearch.**</font> We can also explore faster implementation of Gridsearch and RandomizedSearch in sklearn:\n",
        "\n",
        "1. [Halving Grid Search](https://scikit-learn.org/stable/modules/generated/sklearn.model_selection.HalvingGridSearchCV.html?highlight=halving#sklearn.model_selection.HalvingGridSearchCV)\n",
        "\n",
        "2. [HalvingRandomSearchCV](https://scikit-learn.org/stable/modules/generated/sklearn.model_selection.HalvingRandomSearchCV.html?highlight=halving#sklearn.model_selection.HalvingRandomSearchCV)\n",
        "\n",
        "\n",
        "\n"
      ]
    },
    {
      "cell_type": "code",
      "source": [
        "#Data Processing\n",
        "!pip install -U spacy -qq"
      ],
      "metadata": {
        "id": "TMg2b-BIJBEg"
      },
      "execution_count": null,
      "outputs": []
    },
    {
      "cell_type": "code",
      "source": [
        "import spacy\n",
        "print(spacy.__version__)\n"
      ],
      "metadata": {
        "colab": {
          "base_uri": "https://localhost:8080/"
        },
        "id": "CL7E5flOGBuw",
        "outputId": "6153df50-b6d4-4531-93aa-81086f0bfc70"
      },
      "execution_count": null,
      "outputs": [
        {
          "output_type": "stream",
          "name": "stdout",
          "text": [
            "3.7.2\n"
          ]
        }
      ]
    },
    {
      "cell_type": "code",
      "source": [
        "#Download Model\n",
        "!python -m spacy download en_core_web_lg"
      ],
      "metadata": {
        "colab": {
          "base_uri": "https://localhost:8080/"
        },
        "id": "2aLdI9z0GT-S",
        "outputId": "ed9633d0-a5b7-4ede-858d-428984d19b98"
      },
      "execution_count": null,
      "outputs": [
        {
          "output_type": "stream",
          "name": "stdout",
          "text": [
            "Collecting en-core-web-lg==3.7.1\n",
            "  Downloading https://github.com/explosion/spacy-models/releases/download/en_core_web_lg-3.7.1/en_core_web_lg-3.7.1-py3-none-any.whl (587.7 MB)\n",
            "\u001b[2K     \u001b[90m━━━━━━━━━━━━━━━━━━━━━━━━━━━━━━━━━━━━━━━━\u001b[0m \u001b[32m587.7/587.7 MB\u001b[0m \u001b[31m2.3 MB/s\u001b[0m eta \u001b[36m0:00:00\u001b[0m\n",
            "\u001b[?25hRequirement already satisfied: spacy<3.8.0,>=3.7.2 in /usr/local/lib/python3.10/dist-packages (from en-core-web-lg==3.7.1) (3.7.2)\n",
            "Requirement already satisfied: spacy-legacy<3.1.0,>=3.0.11 in /usr/local/lib/python3.10/dist-packages (from spacy<3.8.0,>=3.7.2->en-core-web-lg==3.7.1) (3.0.12)\n",
            "Requirement already satisfied: spacy-loggers<2.0.0,>=1.0.0 in /usr/local/lib/python3.10/dist-packages (from spacy<3.8.0,>=3.7.2->en-core-web-lg==3.7.1) (1.0.5)\n",
            "Requirement already satisfied: murmurhash<1.1.0,>=0.28.0 in /usr/local/lib/python3.10/dist-packages (from spacy<3.8.0,>=3.7.2->en-core-web-lg==3.7.1) (1.0.10)\n",
            "Requirement already satisfied: cymem<2.1.0,>=2.0.2 in /usr/local/lib/python3.10/dist-packages (from spacy<3.8.0,>=3.7.2->en-core-web-lg==3.7.1) (2.0.8)\n",
            "Requirement already satisfied: preshed<3.1.0,>=3.0.2 in /usr/local/lib/python3.10/dist-packages (from spacy<3.8.0,>=3.7.2->en-core-web-lg==3.7.1) (3.0.9)\n",
            "Requirement already satisfied: thinc<8.3.0,>=8.1.8 in /usr/local/lib/python3.10/dist-packages (from spacy<3.8.0,>=3.7.2->en-core-web-lg==3.7.1) (8.2.3)\n",
            "Requirement already satisfied: wasabi<1.2.0,>=0.9.1 in /usr/local/lib/python3.10/dist-packages (from spacy<3.8.0,>=3.7.2->en-core-web-lg==3.7.1) (1.1.2)\n",
            "Requirement already satisfied: srsly<3.0.0,>=2.4.3 in /usr/local/lib/python3.10/dist-packages (from spacy<3.8.0,>=3.7.2->en-core-web-lg==3.7.1) (2.4.8)\n",
            "Requirement already satisfied: catalogue<2.1.0,>=2.0.6 in /usr/local/lib/python3.10/dist-packages (from spacy<3.8.0,>=3.7.2->en-core-web-lg==3.7.1) (2.0.10)\n",
            "Requirement already satisfied: weasel<0.4.0,>=0.1.0 in /usr/local/lib/python3.10/dist-packages (from spacy<3.8.0,>=3.7.2->en-core-web-lg==3.7.1) (0.3.4)\n",
            "Requirement already satisfied: typer<0.10.0,>=0.3.0 in /usr/local/lib/python3.10/dist-packages (from spacy<3.8.0,>=3.7.2->en-core-web-lg==3.7.1) (0.9.0)\n",
            "Requirement already satisfied: smart-open<7.0.0,>=5.2.1 in /usr/local/lib/python3.10/dist-packages (from spacy<3.8.0,>=3.7.2->en-core-web-lg==3.7.1) (6.4.0)\n",
            "Requirement already satisfied: tqdm<5.0.0,>=4.38.0 in /usr/local/lib/python3.10/dist-packages (from spacy<3.8.0,>=3.7.2->en-core-web-lg==3.7.1) (4.66.1)\n",
            "Requirement already satisfied: requests<3.0.0,>=2.13.0 in /usr/local/lib/python3.10/dist-packages (from spacy<3.8.0,>=3.7.2->en-core-web-lg==3.7.1) (2.31.0)\n",
            "Requirement already satisfied: pydantic!=1.8,!=1.8.1,<3.0.0,>=1.7.4 in /usr/local/lib/python3.10/dist-packages (from spacy<3.8.0,>=3.7.2->en-core-web-lg==3.7.1) (2.6.1)\n",
            "Requirement already satisfied: jinja2 in /usr/local/lib/python3.10/dist-packages (from spacy<3.8.0,>=3.7.2->en-core-web-lg==3.7.1) (3.1.3)\n",
            "Requirement already satisfied: setuptools in /usr/local/lib/python3.10/dist-packages (from spacy<3.8.0,>=3.7.2->en-core-web-lg==3.7.1) (67.7.2)\n",
            "Requirement already satisfied: packaging>=20.0 in /usr/local/lib/python3.10/dist-packages (from spacy<3.8.0,>=3.7.2->en-core-web-lg==3.7.1) (23.2)\n",
            "Requirement already satisfied: langcodes<4.0.0,>=3.2.0 in /usr/local/lib/python3.10/dist-packages (from spacy<3.8.0,>=3.7.2->en-core-web-lg==3.7.1) (3.3.0)\n",
            "Requirement already satisfied: numpy>=1.19.0 in /usr/local/lib/python3.10/dist-packages (from spacy<3.8.0,>=3.7.2->en-core-web-lg==3.7.1) (1.25.2)\n",
            "Requirement already satisfied: annotated-types>=0.4.0 in /usr/local/lib/python3.10/dist-packages (from pydantic!=1.8,!=1.8.1,<3.0.0,>=1.7.4->spacy<3.8.0,>=3.7.2->en-core-web-lg==3.7.1) (0.6.0)\n",
            "Requirement already satisfied: pydantic-core==2.16.2 in /usr/local/lib/python3.10/dist-packages (from pydantic!=1.8,!=1.8.1,<3.0.0,>=1.7.4->spacy<3.8.0,>=3.7.2->en-core-web-lg==3.7.1) (2.16.2)\n",
            "Requirement already satisfied: typing-extensions>=4.6.1 in /usr/local/lib/python3.10/dist-packages (from pydantic!=1.8,!=1.8.1,<3.0.0,>=1.7.4->spacy<3.8.0,>=3.7.2->en-core-web-lg==3.7.1) (4.9.0)\n",
            "Requirement already satisfied: charset-normalizer<4,>=2 in /usr/local/lib/python3.10/dist-packages (from requests<3.0.0,>=2.13.0->spacy<3.8.0,>=3.7.2->en-core-web-lg==3.7.1) (3.3.2)\n",
            "Requirement already satisfied: idna<4,>=2.5 in /usr/local/lib/python3.10/dist-packages (from requests<3.0.0,>=2.13.0->spacy<3.8.0,>=3.7.2->en-core-web-lg==3.7.1) (3.6)\n",
            "Requirement already satisfied: urllib3<3,>=1.21.1 in /usr/local/lib/python3.10/dist-packages (from requests<3.0.0,>=2.13.0->spacy<3.8.0,>=3.7.2->en-core-web-lg==3.7.1) (2.0.7)\n",
            "Requirement already satisfied: certifi>=2017.4.17 in /usr/local/lib/python3.10/dist-packages (from requests<3.0.0,>=2.13.0->spacy<3.8.0,>=3.7.2->en-core-web-lg==3.7.1) (2024.2.2)\n",
            "Requirement already satisfied: blis<0.8.0,>=0.7.8 in /usr/local/lib/python3.10/dist-packages (from thinc<8.3.0,>=8.1.8->spacy<3.8.0,>=3.7.2->en-core-web-lg==3.7.1) (0.7.11)\n",
            "Requirement already satisfied: confection<1.0.0,>=0.0.1 in /usr/local/lib/python3.10/dist-packages (from thinc<8.3.0,>=8.1.8->spacy<3.8.0,>=3.7.2->en-core-web-lg==3.7.1) (0.1.4)\n",
            "Requirement already satisfied: click<9.0.0,>=7.1.1 in /usr/local/lib/python3.10/dist-packages (from typer<0.10.0,>=0.3.0->spacy<3.8.0,>=3.7.2->en-core-web-lg==3.7.1) (8.1.7)\n",
            "Requirement already satisfied: cloudpathlib<0.17.0,>=0.7.0 in /usr/local/lib/python3.10/dist-packages (from weasel<0.4.0,>=0.1.0->spacy<3.8.0,>=3.7.2->en-core-web-lg==3.7.1) (0.16.0)\n",
            "Requirement already satisfied: MarkupSafe>=2.0 in /usr/local/lib/python3.10/dist-packages (from jinja2->spacy<3.8.0,>=3.7.2->en-core-web-lg==3.7.1) (2.1.5)\n",
            "Installing collected packages: en-core-web-lg\n",
            "Successfully installed en-core-web-lg-3.7.1\n",
            "\u001b[38;5;2m✔ Download and installation successful\u001b[0m\n",
            "You can now load the package via spacy.load('en_core_web_lg')\n"
          ]
        }
      ]
    },
    {
      "cell_type": "code",
      "source": [
        "#Load Model\n",
        "nlp = spacy.load('en_core_web_lg')"
      ],
      "metadata": {
        "id": "F5WYIBJkQHDU"
      },
      "execution_count": null,
      "outputs": []
    },
    {
      "cell_type": "code",
      "source": [
        "from sklearn.model_selection import train_test_split\n",
        "train, test = train_test_split(spam_df, test_size=0.2)"
      ],
      "metadata": {
        "id": "SbdIPR6uQWFL"
      },
      "execution_count": null,
      "outputs": []
    },
    {
      "cell_type": "code",
      "source": [
        "train_smaller = train.sample(frac=0.1, replace=True, random_state=1)\n",
        "test_smaller = test.sample(frac=0.1, replace=True, random_state=1)"
      ],
      "metadata": {
        "id": "od0OcwBOFXpA"
      },
      "execution_count": null,
      "outputs": []
    },
    {
      "cell_type": "code",
      "source": [
        "train_smaller.head()"
      ],
      "metadata": {
        "colab": {
          "base_uri": "https://localhost:8080/",
          "height": 206
        },
        "id": "vc6QwzYVFyt6",
        "outputId": "ab0206e1-8dbc-48e8-c585-69b201288de5"
      },
      "execution_count": null,
      "outputs": [
        {
          "output_type": "execute_result",
          "data": {
            "text/plain": [
              "     label                                            message\n",
              "4075  spam  87077: Kick off a new season with 2wks FREE go...\n",
              "2142   ham                    You see the requirements please\n",
              "449    ham                                  10 min later k...\n",
              "574    ham                  Nope i waiting in sch 4 daddy... \n",
              "2127   ham  Tessy..pls do me a favor. Pls convey my birthd..."
            ],
            "text/html": [
              "\n",
              "  <div id=\"df-83aacd8b-1c43-494d-bdeb-b802b1875883\" class=\"colab-df-container\">\n",
              "    <div>\n",
              "<style scoped>\n",
              "    .dataframe tbody tr th:only-of-type {\n",
              "        vertical-align: middle;\n",
              "    }\n",
              "\n",
              "    .dataframe tbody tr th {\n",
              "        vertical-align: top;\n",
              "    }\n",
              "\n",
              "    .dataframe thead th {\n",
              "        text-align: right;\n",
              "    }\n",
              "</style>\n",
              "<table border=\"1\" class=\"dataframe\">\n",
              "  <thead>\n",
              "    <tr style=\"text-align: right;\">\n",
              "      <th></th>\n",
              "      <th>label</th>\n",
              "      <th>message</th>\n",
              "    </tr>\n",
              "  </thead>\n",
              "  <tbody>\n",
              "    <tr>\n",
              "      <th>4075</th>\n",
              "      <td>spam</td>\n",
              "      <td>87077: Kick off a new season with 2wks FREE go...</td>\n",
              "    </tr>\n",
              "    <tr>\n",
              "      <th>2142</th>\n",
              "      <td>ham</td>\n",
              "      <td>You see the requirements please</td>\n",
              "    </tr>\n",
              "    <tr>\n",
              "      <th>449</th>\n",
              "      <td>ham</td>\n",
              "      <td>10 min later k...</td>\n",
              "    </tr>\n",
              "    <tr>\n",
              "      <th>574</th>\n",
              "      <td>ham</td>\n",
              "      <td>Nope i waiting in sch 4 daddy...</td>\n",
              "    </tr>\n",
              "    <tr>\n",
              "      <th>2127</th>\n",
              "      <td>ham</td>\n",
              "      <td>Tessy..pls do me a favor. Pls convey my birthd...</td>\n",
              "    </tr>\n",
              "  </tbody>\n",
              "</table>\n",
              "</div>\n",
              "    <div class=\"colab-df-buttons\">\n",
              "\n",
              "  <div class=\"colab-df-container\">\n",
              "    <button class=\"colab-df-convert\" onclick=\"convertToInteractive('df-83aacd8b-1c43-494d-bdeb-b802b1875883')\"\n",
              "            title=\"Convert this dataframe to an interactive table.\"\n",
              "            style=\"display:none;\">\n",
              "\n",
              "  <svg xmlns=\"http://www.w3.org/2000/svg\" height=\"24px\" viewBox=\"0 -960 960 960\">\n",
              "    <path d=\"M120-120v-720h720v720H120Zm60-500h600v-160H180v160Zm220 220h160v-160H400v160Zm0 220h160v-160H400v160ZM180-400h160v-160H180v160Zm440 0h160v-160H620v160ZM180-180h160v-160H180v160Zm440 0h160v-160H620v160Z\"/>\n",
              "  </svg>\n",
              "    </button>\n",
              "\n",
              "  <style>\n",
              "    .colab-df-container {\n",
              "      display:flex;\n",
              "      gap: 12px;\n",
              "    }\n",
              "\n",
              "    .colab-df-convert {\n",
              "      background-color: #E8F0FE;\n",
              "      border: none;\n",
              "      border-radius: 50%;\n",
              "      cursor: pointer;\n",
              "      display: none;\n",
              "      fill: #1967D2;\n",
              "      height: 32px;\n",
              "      padding: 0 0 0 0;\n",
              "      width: 32px;\n",
              "    }\n",
              "\n",
              "    .colab-df-convert:hover {\n",
              "      background-color: #E2EBFA;\n",
              "      box-shadow: 0px 1px 2px rgba(60, 64, 67, 0.3), 0px 1px 3px 1px rgba(60, 64, 67, 0.15);\n",
              "      fill: #174EA6;\n",
              "    }\n",
              "\n",
              "    .colab-df-buttons div {\n",
              "      margin-bottom: 4px;\n",
              "    }\n",
              "\n",
              "    [theme=dark] .colab-df-convert {\n",
              "      background-color: #3B4455;\n",
              "      fill: #D2E3FC;\n",
              "    }\n",
              "\n",
              "    [theme=dark] .colab-df-convert:hover {\n",
              "      background-color: #434B5C;\n",
              "      box-shadow: 0px 1px 3px 1px rgba(0, 0, 0, 0.15);\n",
              "      filter: drop-shadow(0px 1px 2px rgba(0, 0, 0, 0.3));\n",
              "      fill: #FFFFFF;\n",
              "    }\n",
              "  </style>\n",
              "\n",
              "    <script>\n",
              "      const buttonEl =\n",
              "        document.querySelector('#df-83aacd8b-1c43-494d-bdeb-b802b1875883 button.colab-df-convert');\n",
              "      buttonEl.style.display =\n",
              "        google.colab.kernel.accessAllowed ? 'block' : 'none';\n",
              "\n",
              "      async function convertToInteractive(key) {\n",
              "        const element = document.querySelector('#df-83aacd8b-1c43-494d-bdeb-b802b1875883');\n",
              "        const dataTable =\n",
              "          await google.colab.kernel.invokeFunction('convertToInteractive',\n",
              "                                                    [key], {});\n",
              "        if (!dataTable) return;\n",
              "\n",
              "        const docLinkHtml = 'Like what you see? Visit the ' +\n",
              "          '<a target=\"_blank\" href=https://colab.research.google.com/notebooks/data_table.ipynb>data table notebook</a>'\n",
              "          + ' to learn more about interactive tables.';\n",
              "        element.innerHTML = '';\n",
              "        dataTable['output_type'] = 'display_data';\n",
              "        await google.colab.output.renderOutput(dataTable, element);\n",
              "        const docLink = document.createElement('div');\n",
              "        docLink.innerHTML = docLinkHtml;\n",
              "        element.appendChild(docLink);\n",
              "      }\n",
              "    </script>\n",
              "  </div>\n",
              "\n",
              "\n",
              "<div id=\"df-903f891b-5a3d-4f39-b50e-41a45b5ebadb\">\n",
              "  <button class=\"colab-df-quickchart\" onclick=\"quickchart('df-903f891b-5a3d-4f39-b50e-41a45b5ebadb')\"\n",
              "            title=\"Suggest charts\"\n",
              "            style=\"display:none;\">\n",
              "\n",
              "<svg xmlns=\"http://www.w3.org/2000/svg\" height=\"24px\"viewBox=\"0 0 24 24\"\n",
              "     width=\"24px\">\n",
              "    <g>\n",
              "        <path d=\"M19 3H5c-1.1 0-2 .9-2 2v14c0 1.1.9 2 2 2h14c1.1 0 2-.9 2-2V5c0-1.1-.9-2-2-2zM9 17H7v-7h2v7zm4 0h-2V7h2v10zm4 0h-2v-4h2v4z\"/>\n",
              "    </g>\n",
              "</svg>\n",
              "  </button>\n",
              "\n",
              "<style>\n",
              "  .colab-df-quickchart {\n",
              "      --bg-color: #E8F0FE;\n",
              "      --fill-color: #1967D2;\n",
              "      --hover-bg-color: #E2EBFA;\n",
              "      --hover-fill-color: #174EA6;\n",
              "      --disabled-fill-color: #AAA;\n",
              "      --disabled-bg-color: #DDD;\n",
              "  }\n",
              "\n",
              "  [theme=dark] .colab-df-quickchart {\n",
              "      --bg-color: #3B4455;\n",
              "      --fill-color: #D2E3FC;\n",
              "      --hover-bg-color: #434B5C;\n",
              "      --hover-fill-color: #FFFFFF;\n",
              "      --disabled-bg-color: #3B4455;\n",
              "      --disabled-fill-color: #666;\n",
              "  }\n",
              "\n",
              "  .colab-df-quickchart {\n",
              "    background-color: var(--bg-color);\n",
              "    border: none;\n",
              "    border-radius: 50%;\n",
              "    cursor: pointer;\n",
              "    display: none;\n",
              "    fill: var(--fill-color);\n",
              "    height: 32px;\n",
              "    padding: 0;\n",
              "    width: 32px;\n",
              "  }\n",
              "\n",
              "  .colab-df-quickchart:hover {\n",
              "    background-color: var(--hover-bg-color);\n",
              "    box-shadow: 0 1px 2px rgba(60, 64, 67, 0.3), 0 1px 3px 1px rgba(60, 64, 67, 0.15);\n",
              "    fill: var(--button-hover-fill-color);\n",
              "  }\n",
              "\n",
              "  .colab-df-quickchart-complete:disabled,\n",
              "  .colab-df-quickchart-complete:disabled:hover {\n",
              "    background-color: var(--disabled-bg-color);\n",
              "    fill: var(--disabled-fill-color);\n",
              "    box-shadow: none;\n",
              "  }\n",
              "\n",
              "  .colab-df-spinner {\n",
              "    border: 2px solid var(--fill-color);\n",
              "    border-color: transparent;\n",
              "    border-bottom-color: var(--fill-color);\n",
              "    animation:\n",
              "      spin 1s steps(1) infinite;\n",
              "  }\n",
              "\n",
              "  @keyframes spin {\n",
              "    0% {\n",
              "      border-color: transparent;\n",
              "      border-bottom-color: var(--fill-color);\n",
              "      border-left-color: var(--fill-color);\n",
              "    }\n",
              "    20% {\n",
              "      border-color: transparent;\n",
              "      border-left-color: var(--fill-color);\n",
              "      border-top-color: var(--fill-color);\n",
              "    }\n",
              "    30% {\n",
              "      border-color: transparent;\n",
              "      border-left-color: var(--fill-color);\n",
              "      border-top-color: var(--fill-color);\n",
              "      border-right-color: var(--fill-color);\n",
              "    }\n",
              "    40% {\n",
              "      border-color: transparent;\n",
              "      border-right-color: var(--fill-color);\n",
              "      border-top-color: var(--fill-color);\n",
              "    }\n",
              "    60% {\n",
              "      border-color: transparent;\n",
              "      border-right-color: var(--fill-color);\n",
              "    }\n",
              "    80% {\n",
              "      border-color: transparent;\n",
              "      border-right-color: var(--fill-color);\n",
              "      border-bottom-color: var(--fill-color);\n",
              "    }\n",
              "    90% {\n",
              "      border-color: transparent;\n",
              "      border-bottom-color: var(--fill-color);\n",
              "    }\n",
              "  }\n",
              "</style>\n",
              "\n",
              "  <script>\n",
              "    async function quickchart(key) {\n",
              "      const quickchartButtonEl =\n",
              "        document.querySelector('#' + key + ' button');\n",
              "      quickchartButtonEl.disabled = true;  // To prevent multiple clicks.\n",
              "      quickchartButtonEl.classList.add('colab-df-spinner');\n",
              "      try {\n",
              "        const charts = await google.colab.kernel.invokeFunction(\n",
              "            'suggestCharts', [key], {});\n",
              "      } catch (error) {\n",
              "        console.error('Error during call to suggestCharts:', error);\n",
              "      }\n",
              "      quickchartButtonEl.classList.remove('colab-df-spinner');\n",
              "      quickchartButtonEl.classList.add('colab-df-quickchart-complete');\n",
              "    }\n",
              "    (() => {\n",
              "      let quickchartButtonEl =\n",
              "        document.querySelector('#df-903f891b-5a3d-4f39-b50e-41a45b5ebadb button');\n",
              "      quickchartButtonEl.style.display =\n",
              "        google.colab.kernel.accessAllowed ? 'block' : 'none';\n",
              "    })();\n",
              "  </script>\n",
              "</div>\n",
              "\n",
              "    </div>\n",
              "  </div>\n"
            ],
            "application/vnd.google.colaboratory.intrinsic+json": {
              "type": "dataframe",
              "variable_name": "train_smaller",
              "summary": "{\n  \"name\": \"train_smaller\",\n  \"rows\": 446,\n  \"fields\": [\n    {\n      \"column\": \"label\",\n      \"properties\": {\n        \"dtype\": \"category\",\n        \"samples\": [\n          \"ham\",\n          \"spam\"\n        ],\n        \"num_unique_values\": 2,\n        \"semantic_type\": \"\",\n        \"description\": \"\"\n      }\n    },\n    {\n      \"column\": \"message\",\n      \"properties\": {\n        \"dtype\": \"string\",\n        \"samples\": [\n          \"Mila, age23, blonde, new in UK. I look sex with UK guys. if u like fun with me. Text MTALK to 69866.18 . 30pp/txt 1st 5free. \\u00e5\\u00a31.50 increments. Help08718728876\",\n          \"Ugh its been a long day. I'm exhausted. Just want to cuddle up and take a nap\"\n        ],\n        \"num_unique_values\": 411,\n        \"semantic_type\": \"\",\n        \"description\": \"\"\n      }\n    }\n  ]\n}"
            }
          },
          "metadata": {},
          "execution_count": 11
        }
      ]
    },
    {
      "cell_type": "markdown",
      "source": [
        "## Data Preprocessing"
      ],
      "metadata": {
        "id": "FfPmbzd_LaEg"
      }
    },
    {
      "cell_type": "code",
      "source": [
        "import sys\n",
        "sys.path"
      ],
      "metadata": {
        "colab": {
          "base_uri": "https://localhost:8080/"
        },
        "id": "29pTxv3zGxLB",
        "outputId": "7ea2c53d-9d46-4bad-a694-bb35e3c9560c"
      },
      "execution_count": null,
      "outputs": [
        {
          "output_type": "execute_result",
          "data": {
            "text/plain": [
              "['/content',\n",
              " '/env/python',\n",
              " '/usr/lib/python310.zip',\n",
              " '/usr/lib/python3.10',\n",
              " '/usr/lib/python3.10/lib-dynload',\n",
              " '',\n",
              " '/usr/local/lib/python3.10/dist-packages',\n",
              " '/usr/lib/python3/dist-packages',\n",
              " '/usr/local/lib/python3.10/dist-packages/IPython/extensions',\n",
              " '/root/.ipython']"
            ]
          },
          "metadata": {},
          "execution_count": 12
        }
      ]
    },
    {
      "cell_type": "code",
      "source": [
        "sys.path.append('/content/drive/MyDrive/NLP/data/custom-functions')"
      ],
      "metadata": {
        "id": "t8MvqaKoGD8Y"
      },
      "execution_count": null,
      "outputs": []
    },
    {
      "cell_type": "code",
      "source": [
        "sys.path"
      ],
      "metadata": {
        "colab": {
          "base_uri": "https://localhost:8080/"
        },
        "id": "51wuNPqrHYfv",
        "outputId": "92672aaf-977c-4fd1-89c0-df940caa214e"
      },
      "execution_count": null,
      "outputs": [
        {
          "output_type": "execute_result",
          "data": {
            "text/plain": [
              "['/content',\n",
              " '/env/python',\n",
              " '/usr/lib/python310.zip',\n",
              " '/usr/lib/python3.10',\n",
              " '/usr/lib/python3.10/lib-dynload',\n",
              " '',\n",
              " '/usr/local/lib/python3.10/dist-packages',\n",
              " '/usr/lib/python3/dist-packages',\n",
              " '/usr/local/lib/python3.10/dist-packages/IPython/extensions',\n",
              " '/root/.ipython',\n",
              " '/content/drive/MyDrive/NLP/data/custom-functions']"
            ]
          },
          "metadata": {},
          "execution_count": 14
        }
      ]
    },
    {
      "cell_type": "code",
      "source": [
        "data_folder = sys.path\n"
      ],
      "metadata": {
        "id": "fOt9KMkiJ3WI"
      },
      "execution_count": null,
      "outputs": []
    },
    {
      "cell_type": "code",
      "source": [
        "import CustomPreprocessorSpacy as cp\n",
        "from FeaturizerSpacy import ManualFeatures\n",
        "from plot_learning_curve import plot_learning_curve"
      ],
      "metadata": {
        "id": "mM-M840cHb2T"
      },
      "execution_count": null,
      "outputs": []
    },
    {
      "cell_type": "code",
      "source": [
        "X_train = train_smaller['message'].values\n",
        "X_test = test_smaller['message'].values\n",
        "y_train = train_smaller['label'].values\n",
        "y_test = test_smaller['label'].values"
      ],
      "metadata": {
        "id": "1USNBc_lL4GW"
      },
      "execution_count": null,
      "outputs": []
    },
    {
      "cell_type": "code",
      "source": [
        "X_train_smaller_cleaned = cp.SpacyPreprocessor(model='en_core_web_sm', batch_size = 500).transform(X_train)\n",
        "X_test_smaller_cleaned = cp.SpacyPreprocessor(model='en_core_web_sm', batch_size = 500).transform(X_test)"
      ],
      "metadata": {
        "colab": {
          "base_uri": "https://localhost:8080/"
        },
        "id": "jwZ79qTxIDtr",
        "outputId": "5466b6cd-52cb-4f65-93a5-32e1bf6ea2c0"
      },
      "execution_count": null,
      "outputs": [
        {
          "output_type": "stream",
          "name": "stderr",
          "text": [
            "/content/drive/MyDrive/NLP/data/custom-functions/CustomPreprocessorSpacy.py:83: MarkupResemblesLocatorWarning: The input looks more like a filename than markup. You may want to open this file and pass the filehandle into Beautiful Soup.\n",
            "  soup = BeautifulSoup(text, \"html.parser\")\n"
          ]
        }
      ]
    },
    {
      "cell_type": "code",
      "source": [
        "import joblib"
      ],
      "metadata": {
        "id": "wcaR3Z34JfJI"
      },
      "execution_count": null,
      "outputs": []
    },
    {
      "cell_type": "code",
      "source": [
        "# file_train_small_cleaned = data_folder / 'train_small_cleaned.pkl'\n",
        "# joblib.dump(train_smaller_cleaned,file_train_small_cleaned)"
      ],
      "metadata": {
        "id": "AgEsco8QI-Fa"
      },
      "execution_count": null,
      "outputs": []
    },
    {
      "cell_type": "code",
      "source": [
        "print(X_train_smaller_cleaned)\n",
        "print(X_test_smaller_cleaned)"
      ],
      "metadata": {
        "colab": {
          "base_uri": "https://localhost:8080/"
        },
        "id": "REV2J_NcPNMK",
        "outputId": "42a1166f-8074-44c3-f73b-53c800f63ae3"
      },
      "execution_count": null,
      "outputs": [
        {
          "output_type": "stream",
          "name": "stdout",
          "text": [
            "['87077 kick new season 2wks free goal news ur mobile txt ur club 87077 eg villa 87077', 'requirement', '10 min later k', 'nope wait sch 4 daddy', 'tessy pls favor pls convey birthday wish nimya pls dnt forget today birthday shijas', 'reach home safe n sound liao', 'izzit rain', 'hcl chennai require fresher voice process excellent english need salary upto   < > .call ms. suman   < >   telephonic interview -via', 'good word word leave u dismay time', 'lolnice go fish water', 'gr8 new service live sex video chat mob sexy dirty girl live ur phone 4 detail text horny 89070 cancel send stop 89070', 'hi wlcome wonder get eat lion', 's go ruin thesis', 'christmassy', '', 'aathi dear', 'k come nordstrom', 'go ur hon lab', 'mah b pick tomorrow', 'check iq', 'sorry later', 'send jd customer service cum account executive ur mail d detail contact', 'love aathi love u lot', 'hey gal u go e drive centre tmr', 'request maangalyam alaipayuthe set callertune callers press 9 copy friend callertune', 'private 2003 account statement show 800 un redeem s. i. m. point 08715203652 identifier code 42810 expire 29/10/0', 'good watch cause drunk motherfucker', 'don\\x89û÷t fly monkey wot think certainly don\\x89û÷t mind friend', 'know god create gap finger come fill gap hold hand love', 'ju reach home bathe sis net tell u finish k', 'not pick phone right pls send message', 'hiya comin 2 bristol 1 st week april les get + rudi new yrs eve snoring.they drunk u bak college work send ink 2 bath', 'good afternoon love go day hope maybe get lead job think boytoy send passionate kiss sea', 'ugh long day exhausted want cuddle nap', 'run away frm u walk slowly kill u care stop', 'dear reach railway happen', 'sac score big set batsman:-', 'don\\x89û÷t fly monkey wot think certainly don\\x89û÷t mind friend', 'im late tellmiss im way', 'great new offer double mins double txt good orange tariff late camera phone 4 free mobileupd8 free 08000839402 2stoptxt t&cs', 'ok lor sony ericsson salesman ask shuhui gd 2 use consider', 'wylie tampa sarasota', 'accidant tookplace ghodbandar rd traffic move slovely plz slip worry', 'today voda number end 7548 select receive $ 350 award match 08712300220 quote claim code 4041 standard rate app', 'weather cali great complexity great need car freely taxis outrageous great place sad miss home', 'ok need tell go sleep good night', 'hear', 'hi kate u ring asap xxx', 'dude see park car sunroof pop sux', 'stitch trouser', 'camera award sipix digital camera 09061221066 fromm landline delivery 28 day', 'ur cash balance currently 500 pound maximize ur cash send collect 83600 150p msg cc 08718720201 po box 114/14 tcr w1', 'boy fun today ok problem send message fun', 'hello love go day wish fine babe hope find job prospect miss boytoy teasing kiss', 'oh k.k test', 'exam march 3', '\\\\hey j r u feel well', 'hiya stu wot u 2.im truble home moment evone hate u wot hell av y wont u tell text bck luv dan', 'come want', 'hear new \\\\divorce barbie\\\\ come ken stuff', 'start send blackberry torch nigeria find buyer me?like 4a month tell dad buy bb oh', 'da today forgot', 'hmmm think say 2 hour slave 3 late punish', 'bother trust answer pl', 'convey regard', 'hope scared', 'team wait player', 'private 2004 account statement 078498****7 show 786 unredeemed bonus points claim 08719180219 identifier code 45239 expire 06.05.05', 'yar get error', 'actually wait 2 week start put ad', 's come hill monster hope great day thing r go fine busy', 'sorry battery die yeah', 'babe fucking love know fuck good hear voice need crave adore ahmad kiss', 'mean apology texte drug   < > night', 'webpage s available', 'free tone hope enjoy new content text stop 61610 unsubscribe help:08712400602450p provide', 'foot', 'not know come ask question like not mistake', 'describe lucky actually awake noon', 'dear reach railway happen', 'yeah probably swing roommate finish girl', 'super msg da:)nalla timing', \"sad story man week b'day wife did'nt wish parents forget n kid go work colleague wish\", 'nt joke seriously tell', 'not know she.s get message', 'time i\\x89û÷m prob 3', 'guy kadeem sell break know guy paranoid fuck like sell til late tonight', 'good afternoon love job prospect miss lazy bleak hmmm happy fill love', 'y lei', 'office:)whats matter msg now.i break', 'great news freefone 08006344447 claim guarantee å£1000 cash å£2000 gift speak live operator', 'ur cash balance currently 500 pound maximize ur cash send collect 83600 150p msg cc 08718720201 po box 114/14 tcr w1', 'hot live fantasies 08707509020 20p min ntt ltd po box 1327 croydon cr9 5wb 0870 national rate', 'not pick phone right pls send message', 'tomarrow want got court   < decimal > come bus stand 9', 'love massage use lot baby oil fave position', 'say text time', 'say u mind bedroom minute ok se sexy mood come 5 minut latr wid cake n wife', 'think live good life perfect partner txt age join mobile community 100p sms', 'not pick phone right pls send message', '\\\\hello u.call wen u finish wrk.i fancy meetin wiv u tonite need break dabooks 4 hrs nite+2 today wrk!\\\\', 'urgent try contact u. todays draw show win å£800 prize guarantee 09050003091 land line claim c52 valid12hr', 'x2   < > go', 'know people hit fuck yes', 'ok ìï finish soon', 'remind hrs', 'wot u wanna missy', 'aft finish lunch str lor ard 3 smth lor u finish ur lunch', 'company tell language', '07732584351 rodger burns msg = try reply sms free nokia mobile + free camcorder 08000930705 delivery tomorrow', 'happen dear tell', 'mystery solve open email send batch sweetie', 'ok thanx gd nite 2 ì', 'good afternoon boytoy feel today well hope good boy obedient slave queen', \"u're\", 'promotion number 8714714 ur award city break win å£200 summer shopping spree wk txt store 88039 skilgme tscs087147403231winawk!age16 å£1.50perwksub', 'sex ur mobile free sexy pic jordan text babe 88600 wk sexy celeb 4 pic 16 å£3 wk 087016248', 'great news freefone 08006344447 claim guarantee å£1000 cash å£2000 gift speak live operator', 'stalk profile', 'practise curtsey', 'think slide', 'jade paul y didnåõt u txt u remember barmed want 2 talk 2 u txt', 'babe lose', 'ok lar double check wif da hair dresser say wun cut v short say cut look nice', 'get outta class go to gym', 'sec think think', 'dhoni luck win big win', 'wanna watch movie', 'get dislike bed', 'great weekend', 'free entry 2 wkly comp win fa cup final tkts 21st 2005 text fa 87121 receive entry question(std txt rate)t&c apply 08452810075over18', 'nvm ok', 'customer service announcement recently try delivery unable 07099833605 schedule ref:9280114', 'bruv hope great break rewarding semester', 'okie', 'hello love interview today happy good boy think me?are miss', '4mth half price orange line rental late camera phone 4 free phone 11mths+ mobilesdirect free 08000938767 update or2stoptxt t&cs', 'prob send email', 'ok', 'yeah get line', 'think away trek long family town sorry', 'home', 'break time come n stuff fr ì', 'fyi usf swing room', 'shall come pickle', 'say kiss kiss sound effect gorgeous man kind person need smile brighten day', 'babe u want not u baby m nasty thing 4 filthyguy fancy rude time sexy bitch slo n hard txt xxx slo(4msgs', 'geeeee love barely stand', 'guarantee late nokia phone 40 gb ipod mp3 player å£500 prize txt word collect 83355 ibhltd ldnw15h 150p mtmsgrcvd18 +', 'food', 'good luck draw take place 28th feb 06 good luck removal send stop 87239 customer service 08708034412', 'miss desparate record message leave day listen hear sound voice love', 'case wake wonder forget care grandma today parade', 'oga left phone home see ur message hope good great weekend', 'wonder cos dun rem see silver car thk see black', 'sorry later meet thing relate trade arul < >', 'cute thought friendship \\\\its necessary share secret ur close frnd', 'mu try figure money gas alcohol jay try figure weed budget', 'goodmorning grandfather expire leave today', 'ok arm feel weak cuz get shot time', 'hi elaine today meeting confirm', 'opinion', 'yeah get minute', 'hi:)did ask waheeda fathima leave', 'remember bead come', 'yup ì noe leh', 'thinkin', 'wat time liao get', 'greeting consider excuse', 'urgent try contact weekend draw show win å£900 prize guarantee 09061701939 claim code s89 valid 12hrs', 'final chance claim ur å£150 worth discount voucher today text yes 85023 savamob member offer mobile t cs savamob pobox84 m263uz å£3.00 subs 16', 'dirty fellow', \"k.i did't you.:)k:)where\", 'u pic msgs phone', 'huh fast dat mean u not finish painting', 'know lunch menu da know', 'lol u feel sick', 'ok lor wat time ì finish', 'u secret admirer look 2 contact u find r*reveal think ur special 09065171142 stopsms-08718727870150ppm', 'mila age23 blonde new uk look sex uk guy u like fun text mtalk 69866.18 30pp txt 1st 5free å£1.50 increment help08718728876', 'ask princess', 'ok din ur msg', 'vivek:)i get number', 'love massage use lot baby oil fave position', 'meeting later', 'not close eye vava play umma :-d', 'urgent try contact u. todays draw show win å£800 prize guarantee 09050001295 land line claim a21 valid 12hrs', 'sir hope day go smoothly hope will not bother bill settle month extra cash know challenging time let know', 'unbelievable faglord', 'sorry later', 'add care dude fuck hey money want', 'win nokia 7250i win free auction send nokia 86021 hg suite342/2lands row w1jhl 16 +', 'tbs persolvo chase sept forå£38 definitely pay thank information ignore kath manchester', 'surly ill you:- come review', 'yup ok thanx', 'contact date service enter phone fancy find landline 09111032124 pobox12n146tf150p', 'bruce fowler mom car park long story', 'chance win cash 100 20,000 pound txt > csh11 send 87575 cost 150p day 6days 16 + tsandcs apply reply hl 4 info', 'dunno lei b eatin wif fren ì wan eat wait 4 ì lar', 'missionary hook doggy hook standing |', 'imagine finally sink bath pace maybe have eat leave imagine feel cage cock surround bath water remind own enjoy cuck', 'check iq', 'lot sickness thing go round easy hope u feel well soon lol', 'promise get soon text morning let know ok', 'like people shy pa', 'unbelievable faglord', 'ola maybe today ve tell direct link get car bid online arrange shipping cut u partnership u invest money shipping take care rest!u??wud b self reliant soon dnt worry', 'spring come early yay', 'people special sight remain special till sight maintain till life end sh!jas', 'k 2marrow come class', 'come home time will not trust', 'wil   < >   minute got space', 'thank god bed', 'yup finish c ì', 'cool breeze bright sun fresh flower twitter bird wait wish u \\\\goodmorning nice day\\\\', 'sorry help', 'bday real april', \"sad story man week b'day wife did'nt wish parents forget n kid go work colleague wish enter cabin pa say happy b'day boss feel special askd 4 lunch lunch invite apartment go say u mind bedroom minute ok se sexy mood come 5 minut latr wid cake n wife parents kidz friend n colleagues scream surprise wait sofa naked\", 'awesome go to soon later tonight', 'k sure consent form v', 't mobile customer claim free camera phone upgrade pay sim card loyalty 0845 021 3680.offer end 28thfeb t&c apply', 'sir need axis bank account bank address', 'night sweet sleep exorcism emily rose sleep hug snog', 'ok walike ard u wan 2 buy ur house', 'course guess god get hold right', 'e good 4 ur exam later', 'schedule week town weekend', '5 2 work timing', 'not know bring food', 'ok', 'usf guess 1 car', 'ìï eatin later eatin wif fren lei ìï go home', 'cut girl world', 'ok bag', 'mom want know', 'wish family merry \\\\x\\\\ mas happy new year advance', 'say u mind bedroom minute ok se sexy mood come 5 minut latr wid cake n wife', 'cause freaky lol', '\\\\im gloucesterroad uup later?\\\\', 'ugh long day exhausted want cuddle nap', 'usually fucking minute respond yes question', 'eye philosophy', 'pattern emerge friend tell drive come smoke tell weed fiend smoke impede thing hesitant', 'dear shall mail street shall update look edukkukayee raksha good real sense', 'customer service representative freephone 0808 145 4742 9am-11pm won guarantee å£1000 cash å£5000 prize', 'time tell friend', \"need coffee run tomo?can't believe time week\", 'think ur smart win å£200 week weekly quiz text play 85222 now!t&c winnersclub po box 84 m26 3uz 16 + gbp1.50 week', 'm snowboarding trip wonder planning befor meet greet kind affair cheer', 'blank blank wat blank lol', 'oops sorry check mind pick tomo half station ok', 'official england poly ringtone colour flag yer mobile tonight game text tone flag 84199 optout txt eng stop box39822 w111wx å£1.50', 'probably go stuff', 'maybe find instead', '', 'garden ready summer free selection summer bulb seed worth å£33:50 scotsman saturday stop go2', 'oh ho time u use type word', 'u reckon need 2 arrange transport u thank', 'win nokia 7250i win free auction send nokia 86021 hg suite342/2lands row w1jhl 16 +', 'sweetheart hope have kind day load reason smile biola', 'actually mobile msg m work online need send   < >   send msg wil explain u later', 'guess good excuse lol', 'hiya u like hlday pic look horrible take mo s camp amrca thing speak soon serena', 'faith make thing possible hope make thing work love make thing beautiful christmas!merry christmas', 's staff take class', 'oop 4 get bit', 'finish eat get u plate leftover time', 'oops sorry check mind pick tomo half station ok', 'haha awesome need doin tonight', 'man need beautiful intelligent caring loving adjustable cooperative wife law allow wife', 'fuck babe miss know let send money net need want crave', 'hello orange 1 month free access game news sport plus 10 free text 20 photo message reply yes term apply', 'r ì willing pay', 'k come tonight class let early', 'ok bit ex u well eat smth feel guilty', 'haha awesome minute', 'private 2003 account statement 07753741225 show 800 un redeem s. i. m. point 08715203677 identifier code 42478 expire 24/10/04', 'wnt buy bmw car urgently vry hv shortage   < > source arng dis amt < > lac that prob', 'k.k sister kid', 'class bsn like   < >   minute know advise', 'super msg da:)nalla timing', 'awesome minute', 'ok whats ur todays plan', 'urgent try contact u. todays draw show win å£800 prize guarantee 09050003091 land line claim c52 valid 12hrs', 'smse u n xy lor sorry lor da guy neva c u person sort know u lor u wan 2 meet xy ask 2 bring u 4 meeting', 'appreciate need talk', 'busy juz dun wan 2 early hee', 'study free weekend', 'sure mean \\\\get', 'come hostel', 'internet connection v slow can\\x89û÷t send try later thing tomo', 'hmv bonus special 500 pound genuine hmv voucher win answer 4 easy question play send hmv 86688 info', 'pain come bad time', 'film ill later', 'lol oh get friend dog', 'u free sit rite u wan 2 watch infernal affair wif n darren n mayb xy', 'sorry man accidentally leave phone silent night check til get', 'win guarantee 32000 award maybe å£1000 cash claim ur award free 0800 18 + legitimat efreefone number wat u think', '2nd time try contact u. u win å£1450 prize claim 09053750005 b4 310303 t&cs stop sms 08718725756 140ppm', 'think mentor 100 percent sure', 'great hope like man endow   < >   inch', 'gudnite tc practice go', 'haha awesome need doin tonight', 'small problem auction:)punj ask tiwary', 'boy love gal propsd bt not mind gv lv lttrs bt frnd throw thm d boy decide 2 aproach d gal dt time truck speed d gal wn 2 hit d girl d boy run like hell n save ask hw cn u run fast d boy reply \\\\boost d secret energy\\\\ n instantly d girl shout \\\\\"our energy\\\\ n thy live happily 2gthr drinking boost evrydy moral d story:- hv free msgs :d gud ni8', 'man bus slow think go to', 'hiya u pay money account thank got pleasant surprise check balance -u c statement 4 acc', '< >   mca conform', 'staff placement training amrita college', 'shall ask thing not mistake', 'wat make people dearer de happiness dat u feel u meet de pain u feel u miss dem', 'yeah try scrounge', 'evening v good somewhat event laden fill worry \\x89û head ok throat wreck', 'time', 'winner u specially select 2 receive å£1000 4 holiday flight inc speak live operator 2 claim 0871277810910p min 18 +', 'leave ok lor n eat u thk', 'heat pa:- apply oil pa', 'xy ur car u pick', 'call treadmill buy sure working find ad craigslist selling $ < >', 'need', 'yeah try scrounge', 'say text time', 'hi princess thank pic pretty', 'sleep', 'sorry help', 's take tablet reaction morning', 'not sense free need know', 'hope have good week check', 'lol ok forgive', 'ok prob', 'pick drop problem', 'not pick phone right pls send message', 'lot sickness thing go round easy hope u feel well soon lol', 'cause old live high', 'late say website not slipper', \"oh k i'm watch\", '\\\\cheers u tex mecause u werebored yeah okden hunny r uin wk sat?soundåõs likeyour havin gr8fun j updat countinlots loveme xxxxx.\\\\', 'thx month', 'r u cook dinner', 'not image class', 'ultimately tor motive tui achieve korli', '\\\\hello-/@drivby-:0quit edrunk sorry iff pthis make senrd dnot ^ dancce 2 drum n basq!ihave fun 2nhite x ro xxxxxxx\\\\', 'send jd customer service cum account executive ur mail d detail contact', 'goodmorning today late   < > min', 'sorry help', 'hi wlcome wonder get eat lion', 'sit mu wait suite shower', 'dun bluff leh u sleep early nite', 'marvel mobile play official ultimate spider man game å£4.50 ur mobile right text spider 83338 game ll send u free 8ball wallpaper', 'reach home safe n sound liao', 'will not b 2.15 try 2 sort house ok', 'reach morning', 'old orchard near univ', 'rock yr chik 100 filthy film xxx pic yr phone rply filth 69669 saristar ltd e14 9yt 08701752560 450p 5 day stop2 cancel', 'dunno lei b eatin wif fren ì wan eat wait 4 ì lar', 'im late tellmiss im way', 'sorry pa not knw ru pa', 'hey charle sorry late reply', 'enjoy watch play football basketball outdoors', 'alright sure car tonight', 'nope talk greet', 'apparently bff carly quick', 'meet darren', 'arun u transfr d amt', 'fuck cedar key fuck come tho', 'thing r good thanx got exams march ive revision fran boyf ive gotta interviw 4 exeter bit worried!x', 'pen thing joke will not biro master', 'class hour sorry', 'gam go outstanding inning', 'contact date service enter phone fancy find landline 09111032124 pobox12n146tf150p', 'prob send email', 'germany 1 penny minute fix line access number 0844 861 85 85 prepayment direct access', 'spend new year brother family let plan meet week ready spoil', 'chance win free bluetooth headset simply reply \\\\adp\\\\', 'smile pleasure smile pain smile trouble pour like rain smile sum1 hurt u smile becoz love u smiling', 'not talk people sure pay agree price pls tell want buy willing pay', 'v nice 2 sheffield tom 2 air opinion category 2 b 2 measure ethnicity census busy transcribe', '7 wonder world 7th 6th ur style 5th ur smile 4th ur personality 3rd ur nature 2nd ur sms 1st \\\\ur lovely friendship\\\\ good morning dear', 'thought dinner treat ok', 'sorry chikku cell get problem tht y not able reply u msg u', 'whatsup not u want sleep', 'class holla later', 'cool tyler go to buy drop place later tonight total order quarter get', '5 night not stay port step liao ex', 'askd u question hour answer', 'hep b immunisation nigeria', 'sound like lot time spend chastity device boy grin beating like good dog go lounge nice long bath', 'good morning m suffer fever dysentry able come office today', 'pay attention', 'increase chance win', 'probably come everybody   < >   right', 'have movie laptop', '1 new message 08712400200', 'impossible argue treat like sub like release remind necessary', '8007 free 1st week no1 nokia tone 4 ur mob week txt nokia 8007 txte tell ur mate pobox 36504 w4 5wq norm 150p tone 16 +', 'sure thing big man hockey election 6 shouldn\\x89û÷t long hour', 'thanx', 'chance claim ur å£150 worth discount voucher today text shop 85023 savamob offer mobile t cs savamob pobox84 m263uz å£3.00 sub 16', 'dear umma call', 'wat time u finish ur lect today', 'think lift', 'lul m gettin juicy gossip hospital nurse talk fat gettin think s obese oyea', 'love ya try budget money well babe gary freak know', 'need lar engin cos sis art today', 'u not get urself jacket ah', 'today \\\\song dedicated day song u dedicate send ur valuable frnd rply', 'im gonna mis u', 'schedule week town weekend', 'freeze craving ice fml', 'people special sight remain special till sight maintain till life end sh!jas', 'home', 'thanx lot', 'happy new year dear brother miss get number decide send text wish happiness abiola', 'k yan jiu liao sat 4 bugis vill frm 10 3 den hop parco 4 nb sun cine frm 1030 2 den hop orc mrt 4 hip hop 4', 'bognor splendid time year', 'hello sort town not rush home eat nachos let know eta', 'sun anti sleep medicine', 'ok shall talk', 'come right ahmad', 'trust', 'aight grab eat text mu', 'nah help iphone', 'escape theatre go watch kavalan minute', 'sound good finger make difficult type', 'forget 2 ask ì smth card da present lei ìï want 2 write smth sign', 'text carlo let know hang', 'purity friendship smile read forwarded message smile see gud evng musthu', 'sure come bit', 'class hour sorry', 'ya nice .be ready thursday', 'need detail online job', 'u attend ur drive lesson time wk n day', 'congratulation ur award yrs supply cd virgin records mystery gift guarantee 09061104283 ts&cs å£1.50pm approx 3mins', 'freemsg reply text randy sexy female live local luv hear u. netcollex ltd 08700621170150p msg reply stop end', 'choose receive å£350 award pls claim number 09066364311 collect award select receive value mobile customer', 'honey pls find sell predicte nigeria time important reply monday', 'aight sorry year shower plan', 'å£400 xmas reward wait computer randomly pick loyal mobile customer receive å£400 reward 09066380611', 'mobile number win å£5000 claim call ring claim hot line 09050005321', 'get   < > way pick', 'lick center tootsie pop', 'painful personal thought- \\\\i try everybody happy time recognise alone\\\\', 'happen til', 'winner u specially select 2 receive å£1000 4 holiday flight inc speak live operator 2 claim 0871277810910p min 18 +', 'beauty life second hide thousand secret wish second wonderful ur life gud n8', '\\\\boo babe u enjoyin yourjob u 2 b gettin hunny!hope ure ok?take care iåõllspeak 2u soonlots loveme xxxx.\\\\']\n",
            "['wish family merry \\\\x\\\\ mas happy new year advance', 'sppok ur mob halloween collection nokia logo&pic message plus free eerie tone txt card spook 8007', 'pdate_now double min 1000 txt orange tariff late motorola sonyericsson nokia bluetooth free mobileupd8 08000839402 call2optout/!yhl', 'cos want thing', 'garbage bag egg jam bread hannaford wheat chex', 'r u wear blue shirt n black pant', 'urgent 09061743811 landline abta complimentary 4 tenerife holiday å£5000 cash await collection sae t&c box 326 cw25wx 150ppm', 'hey morning come ask:- pa', 'nah m goin 2 wrk j wot bout u', 'erm \\x89û ill pick 6.45pm time park', 'currently scotland', 'lol starve lose pound end day', 'olol print forum post guy exact   prob fix gpu replacement hopefully not ignore', 'yup thk u oso boring wat', 'r ì go 4 today meeting', 'account credit 500 free text messages activate txt word credit 80488 t&cs', 'tell say eat shit', 'babe go day miss love love kiss hope go', 'ummmmmaah happy return d day dear sweet heart happy birthday dear', 'work go on:)it small house', 'great attract brothas', 'cool night lemme know', 'holla need excuse creep people sarasota', 'today offer claim ur å£150 worth discount voucher text yes 85023 savamob member offer mobile t cs 08717898035 å£3.00 sub 16 unsub reply x', 'say okay sorry', 'ok c ya', 'nah man car mean cram people', 'themob > hit link premium pink panther game new 1 sugababes crazy zebra animation badass hoody wallpaper 4 free', 'u sick shopping', 'ok', '\\\\hi kate lovely tonight ill phone tomorrow get sing guy give card xxx\\\\', 'ard 515 like dat y', 'send lanre fakeye eckankar detail mail box', 'time history need comfort luxury sell price india onion rs < >   petrol rs < >   beer rs < >   shesil   < >', 'hope settle new school year wishin gr8 day', 'sms service inclusive text credit pls gotto login 3qxj9 unsubscribe stop extra charge help 08702840625 comuk.220cm2 9ae', 'long fuckin showr', 'won value vodafone customer computer pick win å£150 prize collect easy 09061743386', 'pity mood suggestion', '\\\\none!nowhere ikno doesdiscount!shitinnit\\\\', 'apo mokka player', 'dear know   < > th   < > th birthday love gopalettan plan small gift day like participate welcome contact admin team detail', 'go project centre', 'ok c ì', 'r go   < >   bus', 'sure sure know be smokin', 'try contact reply offer 750 min 150 textand new video phone 08002988890 reply free delivery tomorrow', 'try contact reply offer video handset 750 anytime network min unlimited text camcorder reply 08000930705', 'yes obviously egg pert potato head\\x89û speak soon', 'u have lunch bored', '3 guy want come time soon', '< >   fast approach wish u happy new year happy sankranti happy republic day happy valentines day happy shivratri happy ugadi happy fools day happy day happy independence day happy friendship mother father teachers childrens day happy birthday 4 u. happy ganesh festival happy dasara happy diwali happy christmas   < >   good mornings afternoons evenings nights rememberi wish u raj', 'babe hope ok shit night sleep fall asleep 5.iåõm knackered iåõm dread work tonight thou upto tonight x', 'sday training start today', 'sorry take long omw', 'sunshine quiz wkly q win sony dvd player u know country algarve txt ansr 82277 å£1.50 sp tyrone', 'yes watch footie worried go blow phil neville', 'bored housewife chat n date 0871750.77.11 bt national rate 10p min landline', 'want bold 2 bb torch', 'cud u tell ppl m gona b bit l8 cos 2 bus hav gon past cos m waitin 4 1 pete x', 'hey iouri give number wylie ryan friend', 'great new offer double mins double txt good orange tariff late camera phone 4 free mobileupd8 free 08000839402 2stoptxt t&cs', 'send scream moan bed princess', 'enjoy ur life good night', 'oops   < >', 'guess want time watch', 'cal sir meeting', 'garbage bag egg jam bread hannaford wheat chex', 'hi email address change', 'dear angry busy dear', 'find way app phone eh net cafe job geeee need babe crave', 'urgent try contact u. todays draw show win å£2000 prize guarantee 09066358361 land line claim y87 valid 12hrs', 'dear know   < > th   < > th birthday love gopalettan plan small gift day like participate welcome contact admin team detail', 'win urgent mobile number award å£2000 prize guarantee 09061790121 land line claim 3030 valid 12hrs 150ppm', 'nope market', 'pity mood suggestion', 'home', 'onum ela pa normal', 'feb   < >   \\\\i love u\\\\ day send dis ur \\\\\"valued frnds\\\\ evn 3 come u\\'ll gt marry d person u luv u ignore dis u lose ur luv 4 evr', 'u today', 'ryder gibb', 'sorry later', 'people special sight remain special till sight maintain till life end sh!jas', 'ok omw castor', 'oh thank lot buy 2 egg', 'hope have great day', 'lol alright thinkin haha', 'ok', 'oh thank lot buy 2 egg', 'r go   < >   bus', 'effect irritation ignore', 'wn u r hurt d prsn s close 2 u fight wit dem coz somtime dis fight save relation bt quiet leave nothin relation gud eveb-', 'ur change 2 da report big cos change 2 da previous report', 'swing bit get thing care firsg', 'ok', 'msg rajini come', 'hi 07734396839 ibh customer loyalty offer new nokia6600 mobile å£10 txtauction!txt word start no:81151 now!4 t', '< >   min s ok', 'happy say', 'she. drinkin ok', 'luv u soo u donåõt understand special u r 2 ring u 2morrow luv u xxx', 'bus leave   < >', 'lor u decide', 'love know feel belly warm wish love shall meet dream ahmad adore kiss', 'ì © $ 140 ard ìä rest ard $ 180 ì © price 4 ì © 2 bedrm $ 900', 'say go to snow start 8 9 pm tonite predict inch accumulation', 'ok come home', '6time', 'ryder gibb', 'k.k:)apo movie', 'ugh leg hurt musta overdo mon', 'oh yes little weather kind coccoone home']\n"
          ]
        }
      ]
    },
    {
      "cell_type": "markdown",
      "source": [
        "## Sparse Embedding"
      ],
      "metadata": {
        "id": "VRX-5bQ9PtuX"
      }
    },
    {
      "cell_type": "code",
      "source": [
        "# Import scikit-learn classes for building models\n",
        "from sklearn.linear_model import LogisticRegression\n",
        "from sklearn.feature_extraction.text import TfidfVectorizer\n",
        "from sklearn.model_selection import GridSearchCV\n",
        "from sklearn.model_selection import RandomizedSearchCV\n",
        "from sklearn.metrics import classification_report\n",
        "from sklearn.pipeline import Pipeline\n",
        "from sklearn.compose import ColumnTransformer\n",
        "from sklearn.base import TransformerMixin, BaseEstimator\n",
        "\n",
        "from scipy.sparse import csr_matrix"
      ],
      "metadata": {
        "id": "pKpr15PIPyd2"
      },
      "execution_count": null,
      "outputs": []
    },
    {
      "cell_type": "code",
      "source": [
        "classifier_1 = Pipeline([\n",
        "    ('vectorizer', TfidfVectorizer(analyzer='word', token_pattern=r\"[\\S]+\")),\n",
        "    ('classifier', LogisticRegression(max_iter=10000)),])"
      ],
      "metadata": {
        "id": "aEHa9VzHPMgg"
      },
      "execution_count": null,
      "outputs": []
    },
    {
      "cell_type": "code",
      "source": [
        "param_grid_classifier_1 = {'vectorizer__max_features': [1000, 2000, 5000],\n",
        "                           'classifier__C': [1, 10, 100,],\n",
        "                            'classifier__class_weight':[\"balanced\"]\n",
        "                           }"
      ],
      "metadata": {
        "id": "cOh0lX0oQ6cy"
      },
      "execution_count": null,
      "outputs": []
    },
    {
      "cell_type": "code",
      "source": [
        "grid_classifier_1 = RandomizedSearchCV(\n",
        "    estimator=classifier_1, param_distributions=param_grid_classifier_1, cv=3, scoring = 'f1_macro')"
      ],
      "metadata": {
        "id": "NULDMQx_SgyH"
      },
      "execution_count": null,
      "outputs": []
    },
    {
      "cell_type": "code",
      "source": [
        "grid_classifier_1.fit(X_train_smaller_cleaned, y_train)"
      ],
      "metadata": {
        "colab": {
          "base_uri": "https://localhost:8080/",
          "height": 207
        },
        "id": "GzQmay-vUTQk",
        "outputId": "72da1c4c-4aff-4eb2-d46b-ca821e04d1ee"
      },
      "execution_count": null,
      "outputs": [
        {
          "output_type": "stream",
          "name": "stderr",
          "text": [
            "/usr/local/lib/python3.10/dist-packages/sklearn/model_selection/_search.py:305: UserWarning: The total space of parameters 9 is smaller than n_iter=10. Running 9 iterations. For exhaustive searches, use GridSearchCV.\n",
            "  warnings.warn(\n"
          ]
        },
        {
          "output_type": "execute_result",
          "data": {
            "text/plain": [
              "RandomizedSearchCV(cv=3,\n",
              "                   estimator=Pipeline(steps=[('vectorizer',\n",
              "                                              TfidfVectorizer(token_pattern='[\\\\S]+')),\n",
              "                                             ('classifier',\n",
              "                                              LogisticRegression(max_iter=10000))]),\n",
              "                   param_distributions={'classifier__C': [1, 10, 100],\n",
              "                                        'classifier__class_weight': ['balanced'],\n",
              "                                        'vectorizer__max_features': [1000, 2000,\n",
              "                                                                     5000]},\n",
              "                   scoring='f1_macro')"
            ],
            "text/html": [
              "<style>#sk-container-id-1 {color: black;background-color: white;}#sk-container-id-1 pre{padding: 0;}#sk-container-id-1 div.sk-toggleable {background-color: white;}#sk-container-id-1 label.sk-toggleable__label {cursor: pointer;display: block;width: 100%;margin-bottom: 0;padding: 0.3em;box-sizing: border-box;text-align: center;}#sk-container-id-1 label.sk-toggleable__label-arrow:before {content: \"▸\";float: left;margin-right: 0.25em;color: #696969;}#sk-container-id-1 label.sk-toggleable__label-arrow:hover:before {color: black;}#sk-container-id-1 div.sk-estimator:hover label.sk-toggleable__label-arrow:before {color: black;}#sk-container-id-1 div.sk-toggleable__content {max-height: 0;max-width: 0;overflow: hidden;text-align: left;background-color: #f0f8ff;}#sk-container-id-1 div.sk-toggleable__content pre {margin: 0.2em;color: black;border-radius: 0.25em;background-color: #f0f8ff;}#sk-container-id-1 input.sk-toggleable__control:checked~div.sk-toggleable__content {max-height: 200px;max-width: 100%;overflow: auto;}#sk-container-id-1 input.sk-toggleable__control:checked~label.sk-toggleable__label-arrow:before {content: \"▾\";}#sk-container-id-1 div.sk-estimator input.sk-toggleable__control:checked~label.sk-toggleable__label {background-color: #d4ebff;}#sk-container-id-1 div.sk-label input.sk-toggleable__control:checked~label.sk-toggleable__label {background-color: #d4ebff;}#sk-container-id-1 input.sk-hidden--visually {border: 0;clip: rect(1px 1px 1px 1px);clip: rect(1px, 1px, 1px, 1px);height: 1px;margin: -1px;overflow: hidden;padding: 0;position: absolute;width: 1px;}#sk-container-id-1 div.sk-estimator {font-family: monospace;background-color: #f0f8ff;border: 1px dotted black;border-radius: 0.25em;box-sizing: border-box;margin-bottom: 0.5em;}#sk-container-id-1 div.sk-estimator:hover {background-color: #d4ebff;}#sk-container-id-1 div.sk-parallel-item::after {content: \"\";width: 100%;border-bottom: 1px solid gray;flex-grow: 1;}#sk-container-id-1 div.sk-label:hover label.sk-toggleable__label {background-color: #d4ebff;}#sk-container-id-1 div.sk-serial::before {content: \"\";position: absolute;border-left: 1px solid gray;box-sizing: border-box;top: 0;bottom: 0;left: 50%;z-index: 0;}#sk-container-id-1 div.sk-serial {display: flex;flex-direction: column;align-items: center;background-color: white;padding-right: 0.2em;padding-left: 0.2em;position: relative;}#sk-container-id-1 div.sk-item {position: relative;z-index: 1;}#sk-container-id-1 div.sk-parallel {display: flex;align-items: stretch;justify-content: center;background-color: white;position: relative;}#sk-container-id-1 div.sk-item::before, #sk-container-id-1 div.sk-parallel-item::before {content: \"\";position: absolute;border-left: 1px solid gray;box-sizing: border-box;top: 0;bottom: 0;left: 50%;z-index: -1;}#sk-container-id-1 div.sk-parallel-item {display: flex;flex-direction: column;z-index: 1;position: relative;background-color: white;}#sk-container-id-1 div.sk-parallel-item:first-child::after {align-self: flex-end;width: 50%;}#sk-container-id-1 div.sk-parallel-item:last-child::after {align-self: flex-start;width: 50%;}#sk-container-id-1 div.sk-parallel-item:only-child::after {width: 0;}#sk-container-id-1 div.sk-dashed-wrapped {border: 1px dashed gray;margin: 0 0.4em 0.5em 0.4em;box-sizing: border-box;padding-bottom: 0.4em;background-color: white;}#sk-container-id-1 div.sk-label label {font-family: monospace;font-weight: bold;display: inline-block;line-height: 1.2em;}#sk-container-id-1 div.sk-label-container {text-align: center;}#sk-container-id-1 div.sk-container {/* jupyter's `normalize.less` sets `[hidden] { display: none; }` but bootstrap.min.css set `[hidden] { display: none !important; }` so we also need the `!important` here to be able to override the default hidden behavior on the sphinx rendered scikit-learn.org. See: https://github.com/scikit-learn/scikit-learn/issues/21755 */display: inline-block !important;position: relative;}#sk-container-id-1 div.sk-text-repr-fallback {display: none;}</style><div id=\"sk-container-id-1\" class=\"sk-top-container\"><div class=\"sk-text-repr-fallback\"><pre>RandomizedSearchCV(cv=3,\n",
              "                   estimator=Pipeline(steps=[(&#x27;vectorizer&#x27;,\n",
              "                                              TfidfVectorizer(token_pattern=&#x27;[\\\\S]+&#x27;)),\n",
              "                                             (&#x27;classifier&#x27;,\n",
              "                                              LogisticRegression(max_iter=10000))]),\n",
              "                   param_distributions={&#x27;classifier__C&#x27;: [1, 10, 100],\n",
              "                                        &#x27;classifier__class_weight&#x27;: [&#x27;balanced&#x27;],\n",
              "                                        &#x27;vectorizer__max_features&#x27;: [1000, 2000,\n",
              "                                                                     5000]},\n",
              "                   scoring=&#x27;f1_macro&#x27;)</pre><b>In a Jupyter environment, please rerun this cell to show the HTML representation or trust the notebook. <br />On GitHub, the HTML representation is unable to render, please try loading this page with nbviewer.org.</b></div><div class=\"sk-container\" hidden><div class=\"sk-item sk-dashed-wrapped\"><div class=\"sk-label-container\"><div class=\"sk-label sk-toggleable\"><input class=\"sk-toggleable__control sk-hidden--visually\" id=\"sk-estimator-id-1\" type=\"checkbox\" ><label for=\"sk-estimator-id-1\" class=\"sk-toggleable__label sk-toggleable__label-arrow\">RandomizedSearchCV</label><div class=\"sk-toggleable__content\"><pre>RandomizedSearchCV(cv=3,\n",
              "                   estimator=Pipeline(steps=[(&#x27;vectorizer&#x27;,\n",
              "                                              TfidfVectorizer(token_pattern=&#x27;[\\\\S]+&#x27;)),\n",
              "                                             (&#x27;classifier&#x27;,\n",
              "                                              LogisticRegression(max_iter=10000))]),\n",
              "                   param_distributions={&#x27;classifier__C&#x27;: [1, 10, 100],\n",
              "                                        &#x27;classifier__class_weight&#x27;: [&#x27;balanced&#x27;],\n",
              "                                        &#x27;vectorizer__max_features&#x27;: [1000, 2000,\n",
              "                                                                     5000]},\n",
              "                   scoring=&#x27;f1_macro&#x27;)</pre></div></div></div><div class=\"sk-parallel\"><div class=\"sk-parallel-item\"><div class=\"sk-item\"><div class=\"sk-label-container\"><div class=\"sk-label sk-toggleable\"><input class=\"sk-toggleable__control sk-hidden--visually\" id=\"sk-estimator-id-2\" type=\"checkbox\" ><label for=\"sk-estimator-id-2\" class=\"sk-toggleable__label sk-toggleable__label-arrow\">estimator: Pipeline</label><div class=\"sk-toggleable__content\"><pre>Pipeline(steps=[(&#x27;vectorizer&#x27;, TfidfVectorizer(token_pattern=&#x27;[\\\\S]+&#x27;)),\n",
              "                (&#x27;classifier&#x27;, LogisticRegression(max_iter=10000))])</pre></div></div></div><div class=\"sk-serial\"><div class=\"sk-item\"><div class=\"sk-serial\"><div class=\"sk-item\"><div class=\"sk-estimator sk-toggleable\"><input class=\"sk-toggleable__control sk-hidden--visually\" id=\"sk-estimator-id-3\" type=\"checkbox\" ><label for=\"sk-estimator-id-3\" class=\"sk-toggleable__label sk-toggleable__label-arrow\">TfidfVectorizer</label><div class=\"sk-toggleable__content\"><pre>TfidfVectorizer(token_pattern=&#x27;[\\\\S]+&#x27;)</pre></div></div></div><div class=\"sk-item\"><div class=\"sk-estimator sk-toggleable\"><input class=\"sk-toggleable__control sk-hidden--visually\" id=\"sk-estimator-id-4\" type=\"checkbox\" ><label for=\"sk-estimator-id-4\" class=\"sk-toggleable__label sk-toggleable__label-arrow\">LogisticRegression</label><div class=\"sk-toggleable__content\"><pre>LogisticRegression(max_iter=10000)</pre></div></div></div></div></div></div></div></div></div></div></div></div>"
            ]
          },
          "metadata": {},
          "execution_count": 26
        }
      ]
    },
    {
      "cell_type": "code",
      "source": [
        "print(f'Best cross-validation score: {grid_classifier_1.best_score_:.2f}')\n",
        "print(\"\\nBest parameters: \", grid_classifier_1.best_params_)\n",
        "print(\"\\nBest estimator: \", grid_classifier_1.best_estimator_)"
      ],
      "metadata": {
        "colab": {
          "base_uri": "https://localhost:8080/"
        },
        "id": "ctt72RCUWzMN",
        "outputId": "f8e58a69-fbdc-41a9-acac-8891b3debe8e"
      },
      "execution_count": null,
      "outputs": [
        {
          "output_type": "stream",
          "name": "stdout",
          "text": [
            "Best cross-validation score: 0.94\n",
            "\n",
            "Best parameters:  {'vectorizer__max_features': 1000, 'classifier__class_weight': 'balanced', 'classifier__C': 100}\n",
            "\n",
            "Best estimator:  Pipeline(steps=[('vectorizer',\n",
            "                 TfidfVectorizer(max_features=1000, token_pattern='[\\\\S]+')),\n",
            "                ('classifier',\n",
            "                 LogisticRegression(C=100, class_weight='balanced',\n",
            "                                    max_iter=10000))])\n"
          ]
        }
      ]
    },
    {
      "cell_type": "code",
      "source": [
        "data_folder = data_folder[-1]\n",
        "print(data_folder)\n",
        "type(data_folder)"
      ],
      "metadata": {
        "colab": {
          "base_uri": "https://localhost:8080/"
        },
        "id": "2gY15edVYA6W",
        "outputId": "a3a80534-2e8c-408e-cdc9-91203ceebb23"
      },
      "execution_count": null,
      "outputs": [
        {
          "output_type": "stream",
          "name": "stdout",
          "text": [
            "/content/drive/MyDrive/NLP/data/custom-functions\n"
          ]
        },
        {
          "output_type": "execute_result",
          "data": {
            "text/plain": [
              "str"
            ]
          },
          "metadata": {},
          "execution_count": 28
        }
      ]
    },
    {
      "cell_type": "code",
      "source": [
        "from pathlib import Path\n",
        "basepath='/content/drive/MyDrive/NLP/data'\n",
        "data_folder=Path(basepath)\n",
        "file_best_estimator_pipeline1_round1 = data_folder/ 'pipeline1_round1_best_estimator.pkl'\n",
        "file_complete_grid_pipeline1_round1 = data_folder/'pipeline1_round1_complete_grid.pkl'\n"
      ],
      "metadata": {
        "id": "rzw_n1JRXUpL"
      },
      "execution_count": null,
      "outputs": []
    },
    {
      "cell_type": "code",
      "source": [
        "file_X_train_smaller_cleaned = data_folder / 'x_train_cleaned_bow_small.pkl'\n",
        "joblib.dump(X_train_smaller_cleaned, file_X_train_smaller_cleaned)\n",
        "file_X_test_smaller_cleaned = data_folder / 'x_train_cleaned_bow_small.pkl'\n",
        "joblib.dump(X_test_smaller_cleaned, file_X_test_smaller_cleaned)"
      ],
      "metadata": {
        "colab": {
          "base_uri": "https://localhost:8080/"
        },
        "id": "WFoTMrswfErq",
        "outputId": "d7092133-3b6b-4c1e-861f-433d05b619af"
      },
      "execution_count": null,
      "outputs": [
        {
          "output_type": "execute_result",
          "data": {
            "text/plain": [
              "['/content/drive/MyDrive/NLP/data/x_train_cleaned_bow_small.pkl']"
            ]
          },
          "metadata": {},
          "execution_count": 30
        }
      ]
    },
    {
      "cell_type": "code",
      "source": [
        "joblib.dump(grid_classifier_1.best_estimator_, file_best_estimator_pipeline1_round1)\n",
        "joblib.dump(grid_classifier_1, file_complete_grid_pipeline1_round1)"
      ],
      "metadata": {
        "colab": {
          "base_uri": "https://localhost:8080/"
        },
        "id": "FNYvDwxqZFOh",
        "outputId": "1ccde765-2f03-43c0-a3ec-c3546fde7aff"
      },
      "execution_count": null,
      "outputs": [
        {
          "output_type": "execute_result",
          "data": {
            "text/plain": [
              "['/content/drive/MyDrive/NLP/data/pipeline1_round1_complete_grid.pkl']"
            ]
          },
          "metadata": {},
          "execution_count": 31
        }
      ]
    },
    {
      "cell_type": "code",
      "source": [
        "best_estimator_pipeline1_round1 = joblib.load(\n",
        "    file_best_estimator_pipeline1_round1)\n",
        "complete_grid_pipeline1_round1 = joblib.load(\n",
        "    file_complete_grid_pipeline1_round1)"
      ],
      "metadata": {
        "id": "HjnE9rrFaaxB"
      },
      "execution_count": null,
      "outputs": []
    },
    {
      "cell_type": "code",
      "source": [
        "# plot learning curces\n",
        "plot_learning_curve(best_estimator_pipeline1_round1, 'Learning Curves',\n",
        "                    X_train_smaller_cleaned, y_train, n_jobs=-1)"
      ],
      "metadata": {
        "colab": {
          "base_uri": "https://localhost:8080/",
          "height": 410
        },
        "id": "sElNcmqjacg0",
        "outputId": "f2e8e15d-477d-49e1-8091-2f3e0014319e"
      },
      "execution_count": null,
      "outputs": [
        {
          "output_type": "execute_result",
          "data": {
            "text/plain": [
              "<module 'matplotlib.pyplot' from '/usr/local/lib/python3.10/dist-packages/matplotlib/pyplot.py'>"
            ]
          },
          "metadata": {},
          "execution_count": 33
        },
        {
          "output_type": "display_data",
          "data": {
            "text/plain": [
              "<Figure size 2000x500 with 3 Axes>"
            ],
            "image/png": "[encoded data removed]"
          },
          "metadata": {}
        }
      ]
    },
    {
      "cell_type": "code",
      "source": [
        "# let's check the train scores\n",
        "print(best_estimator_pipeline1_round1.score(\n",
        "    X_train_smaller_cleaned, y_train))\n",
        "\n",
        "# let's check the cross validation score\n",
        "print(complete_grid_pipeline1_round1.best_score_)"
      ],
      "metadata": {
        "colab": {
          "base_uri": "https://localhost:8080/"
        },
        "id": "6on6w_5cayms",
        "outputId": "644a665e-a5c7-4c9f-90b4-fb8eeeaf102d"
      },
      "execution_count": null,
      "outputs": [
        {
          "output_type": "stream",
          "name": "stdout",
          "text": [
            "1.0\n",
            "0.9437136838937256\n"
          ]
        }
      ]
    },
    {
      "cell_type": "code",
      "source": [
        "# Final Pipeline\n",
        "def final_pipeline(text):\n",
        "    # cleaned_text = cp.SpacyPreprocessor(model='en_core_web_sm').transform(text)\n",
        "    cleaned_text = X_test_smaller_cleaned\n",
        "    best_estimator_pipeline1_round1 = joblib.load(\n",
        "        file_best_estimator_pipeline1_round1)\n",
        "    predictions = best_estimator_pipeline1_round1.predict(cleaned_text)\n",
        "    return predictions"
      ],
      "metadata": {
        "id": "bdd8PcpWa_Q7"
      },
      "execution_count": null,
      "outputs": []
    },
    {
      "cell_type": "code",
      "source": [
        "y_test_pred = final_pipeline(X_test)"
      ],
      "metadata": {
        "id": "5UUSTdyAbJzd"
      },
      "execution_count": null,
      "outputs": []
    },
    {
      "cell_type": "code",
      "source": [
        "print('\\nTest set classification report:\\n\\n',\n",
        "      classification_report(y_test, y_test_pred))"
      ],
      "metadata": {
        "colab": {
          "base_uri": "https://localhost:8080/"
        },
        "id": "V3Dg0z4-bRjI",
        "outputId": "4bbd68f7-8d35-4316-a871-708795d862a9"
      },
      "execution_count": null,
      "outputs": [
        {
          "output_type": "stream",
          "name": "stdout",
          "text": [
            "\n",
            "Test set classification report:\n",
            "\n",
            "               precision    recall  f1-score   support\n",
            "\n",
            "         ham       0.99      1.00      0.99        96\n",
            "        spam       1.00      0.94      0.97        16\n",
            "\n",
            "    accuracy                           0.99       112\n",
            "   macro avg       0.99      0.97      0.98       112\n",
            "weighted avg       0.99      0.99      0.99       112\n",
            "\n"
          ]
        }
      ]
    },
    {
      "cell_type": "markdown",
      "source": [
        "## Feature Engineering"
      ],
      "metadata": {
        "id": "e06GkyBubaiB"
      }
    },
    {
      "cell_type": "code",
      "source": [
        "X_train_cleaned_basic = cp.SpacyPreprocessor(model='en_core_web_sm',\n",
        "                                                    lemmatize=False, lower=False,\n",
        "                                                    remove_stop=False, remove_punct=False,\n",
        "                                                    remove_email=False, remove_url=False,\n",
        "                                                     add_user_mention_prefix=False,\n",
        "                                                     basic_clean_only=True).transform(X_train)"
      ],
      "metadata": {
        "colab": {
          "base_uri": "https://localhost:8080/"
        },
        "id": "1TknC2TdbiBs",
        "outputId": "61357768-d96f-4e82-b658-e2f1c5540318"
      },
      "execution_count": null,
      "outputs": [
        {
          "output_type": "stream",
          "name": "stderr",
          "text": [
            "/content/drive/MyDrive/NLP/data/custom-functions/CustomPreprocessorSpacy.py:83: MarkupResemblesLocatorWarning: The input looks more like a filename than markup. You may want to open this file and pass the filehandle into Beautiful Soup.\n",
            "  soup = BeautifulSoup(text, \"html.parser\")\n"
          ]
        }
      ]
    },
    {
      "cell_type": "code",
      "source": [
        "file_X_train_cleaned_basic = data_folder / 'x_train_cleaned_basic_small.pkl'\n",
        "joblib.dump(X_train_cleaned_basic, file_X_train_cleaned_basic)"
      ],
      "metadata": {
        "colab": {
          "base_uri": "https://localhost:8080/"
        },
        "id": "NuSycsxQb8f_",
        "outputId": "f643ce3e-a1e8-49b1-fcb8-00e75e2bd35c"
      },
      "execution_count": null,
      "outputs": [
        {
          "output_type": "execute_result",
          "data": {
            "text/plain": [
              "['/content/drive/MyDrive/NLP/data/x_train_cleaned_basic_small.pkl']"
            ]
          },
          "metadata": {},
          "execution_count": 39
        }
      ]
    },
    {
      "cell_type": "code",
      "source": [
        "X_test_cleaned_basic = cp.SpacyPreprocessor(model='en_core_web_sm',\n",
        "                                                    lemmatize=False, lower=False,\n",
        "                                                    remove_stop=False, remove_punct=False,\n",
        "                                                    remove_email=False, remove_url=False,\n",
        "                                                     add_user_mention_prefix=False,\n",
        "                                                     basic_clean_only=True).transform(X_test)"
      ],
      "metadata": {
        "id": "gj7Qj3jicBoa"
      },
      "execution_count": null,
      "outputs": []
    },
    {
      "cell_type": "code",
      "source": [
        "file_X_test_cleaned_basic = data_folder / 'x_test_cleaned_basic_small.pkl'\n",
        "joblib.dump(X_test_cleaned_basic, file_X_test_cleaned_basic)"
      ],
      "metadata": {
        "colab": {
          "base_uri": "https://localhost:8080/"
        },
        "id": "zxgURIVkcG_D",
        "outputId": "dae76a85-3434-46c9-fa75-32b476e8bb1c"
      },
      "execution_count": null,
      "outputs": [
        {
          "output_type": "execute_result",
          "data": {
            "text/plain": [
              "['/content/drive/MyDrive/NLP/data/x_test_cleaned_basic_small.pkl']"
            ]
          },
          "metadata": {},
          "execution_count": 41
        }
      ]
    },
    {
      "cell_type": "code",
      "source": [
        "featurizer = ManualFeatures(spacy_model='en_core_web_sm', batch_size = 1000)"
      ],
      "metadata": {
        "id": "nRoaJzJCcLjJ"
      },
      "execution_count": null,
      "outputs": []
    },
    {
      "cell_type": "code",
      "source": [
        "X_train_cleaned_basic = joblib.load(file_X_train_cleaned_basic)"
      ],
      "metadata": {
        "id": "-VjfzlmpcSwp"
      },
      "execution_count": null,
      "outputs": []
    },
    {
      "cell_type": "code",
      "source": [
        "X_train_features, feature_names = featurizer.fit_transform(X_train_cleaned_basic)"
      ],
      "metadata": {
        "id": "sFGiIWgjcUn_"
      },
      "execution_count": null,
      "outputs": []
    },
    {
      "cell_type": "code",
      "source": [
        "X_train_features[0:3]"
      ],
      "metadata": {
        "colab": {
          "base_uri": "https://localhost:8080/"
        },
        "id": "KEr_QOkRcboA",
        "outputId": "beafaf26-86a9-410b-fff4-81989c01de4f"
      },
      "execution_count": null,
      "outputs": [
        {
          "output_type": "execute_result",
          "data": {
            "text/plain": [
              "array([[ 24. , 114. ,  90. ,   3.6,   3. ,   2. ,   7. ,   0. ,   3. ,\n",
              "          3. ,   5. ],\n",
              "       [  5. ,  31. ,  27. ,   4.5,   0. ,   1. ,   1. ,   0. ,   1. ,\n",
              "          0. ,   0. ],\n",
              "       [  4. ,  17. ,  14. ,   2.8,   1. ,   1. ,   1. ,   0. ,   0. ,\n",
              "          0. ,   1. ]])"
            ]
          },
          "metadata": {},
          "execution_count": 45
        }
      ]
    },
    {
      "cell_type": "code",
      "source": [
        "feature_names"
      ],
      "metadata": {
        "colab": {
          "base_uri": "https://localhost:8080/"
        },
        "id": "gMgSRlpXcfHf",
        "outputId": "f6e80950-73ea-427f-eb36-0c2db624adbe"
      },
      "execution_count": null,
      "outputs": [
        {
          "output_type": "execute_result",
          "data": {
            "text/plain": [
              "['count_words',\n",
              " 'count_characters',\n",
              " 'count_characters_no_space',\n",
              " 'avg_word_length',\n",
              " 'count_numbers',\n",
              " 'count_sentences',\n",
              " 'noun_count',\n",
              " 'aux_count',\n",
              " 'verb_count',\n",
              " 'adj_count',\n",
              " 'ner']"
            ]
          },
          "metadata": {},
          "execution_count": 46
        }
      ]
    },
    {
      "cell_type": "code",
      "source": [
        "classifier_2 = Pipeline([\n",
        "    ('classifier', LogisticRegression(max_iter=10000)),\n",
        "])"
      ],
      "metadata": {
        "id": "zEf0arNWci2A"
      },
      "execution_count": null,
      "outputs": []
    },
    {
      "cell_type": "code",
      "source": [
        "param_grid_classifier_2 = {'classifier__C': [100000],'classifier__class_weight':[\"balanced\"]}"
      ],
      "metadata": {
        "id": "9_1HoiXOcm69"
      },
      "execution_count": null,
      "outputs": []
    },
    {
      "cell_type": "code",
      "source": [
        "grid_classifier_2 = RandomizedSearchCV(estimator=classifier_2,\n",
        "                                 param_distributions=param_grid_classifier_2,\n",
        "                                 cv=3, scoring = 'f1_macro')"
      ],
      "metadata": {
        "id": "JzvoTuJOcqpb"
      },
      "execution_count": null,
      "outputs": []
    },
    {
      "cell_type": "code",
      "source": [
        "# Fit the model on training data\n",
        "grid_classifier_2.fit(X_train_features, y_train)"
      ],
      "metadata": {
        "colab": {
          "base_uri": "https://localhost:8080/",
          "height": 173
        },
        "id": "kzodcb9lcsTT",
        "outputId": "1f393856-5661-41be-d336-9abcb84d93f2"
      },
      "execution_count": null,
      "outputs": [
        {
          "output_type": "stream",
          "name": "stderr",
          "text": [
            "/usr/local/lib/python3.10/dist-packages/sklearn/model_selection/_search.py:305: UserWarning: The total space of parameters 1 is smaller than n_iter=10. Running 1 iterations. For exhaustive searches, use GridSearchCV.\n",
            "  warnings.warn(\n"
          ]
        },
        {
          "output_type": "execute_result",
          "data": {
            "text/plain": [
              "RandomizedSearchCV(cv=3,\n",
              "                   estimator=Pipeline(steps=[('classifier',\n",
              "                                              LogisticRegression(max_iter=10000))]),\n",
              "                   param_distributions={'classifier__C': [100000],\n",
              "                                        'classifier__class_weight': ['balanced']},\n",
              "                   scoring='f1_macro')"
            ],
            "text/html": [
              "<style>#sk-container-id-2 {color: black;background-color: white;}#sk-container-id-2 pre{padding: 0;}#sk-container-id-2 div.sk-toggleable {background-color: white;}#sk-container-id-2 label.sk-toggleable__label {cursor: pointer;display: block;width: 100%;margin-bottom: 0;padding: 0.3em;box-sizing: border-box;text-align: center;}#sk-container-id-2 label.sk-toggleable__label-arrow:before {content: \"▸\";float: left;margin-right: 0.25em;color: #696969;}#sk-container-id-2 label.sk-toggleable__label-arrow:hover:before {color: black;}#sk-container-id-2 div.sk-estimator:hover label.sk-toggleable__label-arrow:before {color: black;}#sk-container-id-2 div.sk-toggleable__content {max-height: 0;max-width: 0;overflow: hidden;text-align: left;background-color: #f0f8ff;}#sk-container-id-2 div.sk-toggleable__content pre {margin: 0.2em;color: black;border-radius: 0.25em;background-color: #f0f8ff;}#sk-container-id-2 input.sk-toggleable__control:checked~div.sk-toggleable__content {max-height: 200px;max-width: 100%;overflow: auto;}#sk-container-id-2 input.sk-toggleable__control:checked~label.sk-toggleable__label-arrow:before {content: \"▾\";}#sk-container-id-2 div.sk-estimator input.sk-toggleable__control:checked~label.sk-toggleable__label {background-color: #d4ebff;}#sk-container-id-2 div.sk-label input.sk-toggleable__control:checked~label.sk-toggleable__label {background-color: #d4ebff;}#sk-container-id-2 input.sk-hidden--visually {border: 0;clip: rect(1px 1px 1px 1px);clip: rect(1px, 1px, 1px, 1px);height: 1px;margin: -1px;overflow: hidden;padding: 0;position: absolute;width: 1px;}#sk-container-id-2 div.sk-estimator {font-family: monospace;background-color: #f0f8ff;border: 1px dotted black;border-radius: 0.25em;box-sizing: border-box;margin-bottom: 0.5em;}#sk-container-id-2 div.sk-estimator:hover {background-color: #d4ebff;}#sk-container-id-2 div.sk-parallel-item::after {content: \"\";width: 100%;border-bottom: 1px solid gray;flex-grow: 1;}#sk-container-id-2 div.sk-label:hover label.sk-toggleable__label {background-color: #d4ebff;}#sk-container-id-2 div.sk-serial::before {content: \"\";position: absolute;border-left: 1px solid gray;box-sizing: border-box;top: 0;bottom: 0;left: 50%;z-index: 0;}#sk-container-id-2 div.sk-serial {display: flex;flex-direction: column;align-items: center;background-color: white;padding-right: 0.2em;padding-left: 0.2em;position: relative;}#sk-container-id-2 div.sk-item {position: relative;z-index: 1;}#sk-container-id-2 div.sk-parallel {display: flex;align-items: stretch;justify-content: center;background-color: white;position: relative;}#sk-container-id-2 div.sk-item::before, #sk-container-id-2 div.sk-parallel-item::before {content: \"\";position: absolute;border-left: 1px solid gray;box-sizing: border-box;top: 0;bottom: 0;left: 50%;z-index: -1;}#sk-container-id-2 div.sk-parallel-item {display: flex;flex-direction: column;z-index: 1;position: relative;background-color: white;}#sk-container-id-2 div.sk-parallel-item:first-child::after {align-self: flex-end;width: 50%;}#sk-container-id-2 div.sk-parallel-item:last-child::after {align-self: flex-start;width: 50%;}#sk-container-id-2 div.sk-parallel-item:only-child::after {width: 0;}#sk-container-id-2 div.sk-dashed-wrapped {border: 1px dashed gray;margin: 0 0.4em 0.5em 0.4em;box-sizing: border-box;padding-bottom: 0.4em;background-color: white;}#sk-container-id-2 div.sk-label label {font-family: monospace;font-weight: bold;display: inline-block;line-height: 1.2em;}#sk-container-id-2 div.sk-label-container {text-align: center;}#sk-container-id-2 div.sk-container {/* jupyter's `normalize.less` sets `[hidden] { display: none; }` but bootstrap.min.css set `[hidden] { display: none !important; }` so we also need the `!important` here to be able to override the default hidden behavior on the sphinx rendered scikit-learn.org. See: https://github.com/scikit-learn/scikit-learn/issues/21755 */display: inline-block !important;position: relative;}#sk-container-id-2 div.sk-text-repr-fallback {display: none;}</style><div id=\"sk-container-id-2\" class=\"sk-top-container\"><div class=\"sk-text-repr-fallback\"><pre>RandomizedSearchCV(cv=3,\n",
              "                   estimator=Pipeline(steps=[(&#x27;classifier&#x27;,\n",
              "                                              LogisticRegression(max_iter=10000))]),\n",
              "                   param_distributions={&#x27;classifier__C&#x27;: [100000],\n",
              "                                        &#x27;classifier__class_weight&#x27;: [&#x27;balanced&#x27;]},\n",
              "                   scoring=&#x27;f1_macro&#x27;)</pre><b>In a Jupyter environment, please rerun this cell to show the HTML representation or trust the notebook. <br />On GitHub, the HTML representation is unable to render, please try loading this page with nbviewer.org.</b></div><div class=\"sk-container\" hidden><div class=\"sk-item sk-dashed-wrapped\"><div class=\"sk-label-container\"><div class=\"sk-label sk-toggleable\"><input class=\"sk-toggleable__control sk-hidden--visually\" id=\"sk-estimator-id-5\" type=\"checkbox\" ><label for=\"sk-estimator-id-5\" class=\"sk-toggleable__label sk-toggleable__label-arrow\">RandomizedSearchCV</label><div class=\"sk-toggleable__content\"><pre>RandomizedSearchCV(cv=3,\n",
              "                   estimator=Pipeline(steps=[(&#x27;classifier&#x27;,\n",
              "                                              LogisticRegression(max_iter=10000))]),\n",
              "                   param_distributions={&#x27;classifier__C&#x27;: [100000],\n",
              "                                        &#x27;classifier__class_weight&#x27;: [&#x27;balanced&#x27;]},\n",
              "                   scoring=&#x27;f1_macro&#x27;)</pre></div></div></div><div class=\"sk-parallel\"><div class=\"sk-parallel-item\"><div class=\"sk-item\"><div class=\"sk-label-container\"><div class=\"sk-label sk-toggleable\"><input class=\"sk-toggleable__control sk-hidden--visually\" id=\"sk-estimator-id-6\" type=\"checkbox\" ><label for=\"sk-estimator-id-6\" class=\"sk-toggleable__label sk-toggleable__label-arrow\">estimator: Pipeline</label><div class=\"sk-toggleable__content\"><pre>Pipeline(steps=[(&#x27;classifier&#x27;, LogisticRegression(max_iter=10000))])</pre></div></div></div><div class=\"sk-serial\"><div class=\"sk-item\"><div class=\"sk-serial\"><div class=\"sk-item\"><div class=\"sk-estimator sk-toggleable\"><input class=\"sk-toggleable__control sk-hidden--visually\" id=\"sk-estimator-id-7\" type=\"checkbox\" ><label for=\"sk-estimator-id-7\" class=\"sk-toggleable__label sk-toggleable__label-arrow\">LogisticRegression</label><div class=\"sk-toggleable__content\"><pre>LogisticRegression(max_iter=10000)</pre></div></div></div></div></div></div></div></div></div></div></div></div>"
            ]
          },
          "metadata": {},
          "execution_count": 50
        }
      ]
    },
    {
      "cell_type": "code",
      "source": [
        "print(f'Best cross-validation score: {grid_classifier_2.best_score_:.2f}')\n",
        "print(\"\\nBest parameters: \", grid_classifier_2.best_params_)\n",
        "print(\"\\nBest estimator: \", grid_classifier_2.best_estimator_)"
      ],
      "metadata": {
        "colab": {
          "base_uri": "https://localhost:8080/"
        },
        "id": "T1BCcH8vcwl0",
        "outputId": "d594d307-16c5-4daf-df87-d178b4dc590d"
      },
      "execution_count": null,
      "outputs": [
        {
          "output_type": "stream",
          "name": "stdout",
          "text": [
            "Best cross-validation score: 0.88\n",
            "\n",
            "Best parameters:  {'classifier__class_weight': 'balanced', 'classifier__C': 100000}\n",
            "\n",
            "Best estimator:  Pipeline(steps=[('classifier',\n",
            "                 LogisticRegression(C=100000, class_weight='balanced',\n",
            "                                    max_iter=10000))])\n"
          ]
        }
      ]
    },
    {
      "cell_type": "code",
      "source": [
        "file_best_estimator_pipeline2_round1 = data_folder / \\\n",
        "    'pipeline2_round1_best_estimator.pkl'\n",
        "file_complete_grid_pipeline2_round1 = data_folder / \\\n",
        "    'pipeline2_round1_complete_grid.pkl'"
      ],
      "metadata": {
        "id": "81muE0grc11x"
      },
      "execution_count": null,
      "outputs": []
    },
    {
      "cell_type": "code",
      "source": [
        "joblib.dump(grid_classifier_2.best_estimator_,\n",
        "            file_best_estimator_pipeline2_round1)\n",
        "joblib.dump(grid_classifier_2, file_complete_grid_pipeline2_round1)"
      ],
      "metadata": {
        "colab": {
          "base_uri": "https://localhost:8080/"
        },
        "id": "ANGs9hRqc9IE",
        "outputId": "e667a682-83ee-4411-b85d-20493985f9b9"
      },
      "execution_count": null,
      "outputs": [
        {
          "output_type": "execute_result",
          "data": {
            "text/plain": [
              "['/content/drive/MyDrive/NLP/data/pipeline2_round1_complete_grid.pkl']"
            ]
          },
          "metadata": {},
          "execution_count": 53
        }
      ]
    },
    {
      "cell_type": "code",
      "source": [
        "best_estimator_pipeline2_round1 = joblib.load(\n",
        "    file_best_estimator_pipeline2_round1)\n",
        "complete_grid_pipeline2_round1 = joblib.load(\n",
        "    file_complete_grid_pipeline2_round1)"
      ],
      "metadata": {
        "id": "_Ti3sCPpdAWZ"
      },
      "execution_count": null,
      "outputs": []
    },
    {
      "cell_type": "code",
      "source": [
        "# plot learning curves\n",
        "plot_learning_curve(best_estimator_pipeline2_round1, 'Learning Curves',\n",
        "                    X_train_features, y_train, n_jobs=-1)"
      ],
      "metadata": {
        "colab": {
          "base_uri": "https://localhost:8080/",
          "height": 407
        },
        "id": "azBxpjzwdE1j",
        "outputId": "c0cde25c-ac93-430b-fb5e-bf1d3344dad3"
      },
      "execution_count": null,
      "outputs": [
        {
          "output_type": "execute_result",
          "data": {
            "text/plain": [
              "<module 'matplotlib.pyplot' from '/usr/local/lib/python3.10/dist-packages/matplotlib/pyplot.py'>"
            ]
          },
          "metadata": {},
          "execution_count": 55
        },
        {
          "output_type": "display_data",
          "data": {
            "text/plain": [
              "<Figure size 2000x500 with 3 Axes>"
            ],
            "image/png": "[encoded data removed]"
          },
          "metadata": {}
        }
      ]
    },
    {
      "cell_type": "code",
      "source": [
        "# let's check the train scores\n",
        "print(best_estimator_pipeline2_round1.score(X_train_features, y_train))\n",
        "\n",
        "# let's check the cross validation score\n",
        "print(complete_grid_pipeline2_round1.best_score_)"
      ],
      "metadata": {
        "colab": {
          "base_uri": "https://localhost:8080/"
        },
        "id": "4e5aJnXrdNwb",
        "outputId": "4fd1f0ed-7887-4232-8f2c-cbf59ce502d2"
      },
      "execution_count": null,
      "outputs": [
        {
          "output_type": "stream",
          "name": "stdout",
          "text": [
            "0.9439461883408071\n",
            "0.8818834272761129\n"
          ]
        }
      ]
    },
    {
      "cell_type": "code",
      "source": [
        "# Final Pipeline\n",
        "def final_pipeline(text):\n",
        "    text_cleaned = joblib.load(file_X_test_cleaned_basic)\n",
        "    features, feature_names = featurizer.fit_transform(text_cleaned)\n",
        "    best_estimator_pipeline2_round1 = joblib.load(\n",
        "        file_best_estimator_pipeline2_round1)\n",
        "    predictions = best_estimator_pipeline2_round1.predict(features)\n",
        "    return predictions"
      ],
      "metadata": {
        "id": "cYM2HbvFdPpY"
      },
      "execution_count": null,
      "outputs": []
    },
    {
      "cell_type": "code",
      "source": [
        "# predicted values for Test data set\n",
        "y_test_pred = final_pipeline(X_test)"
      ],
      "metadata": {
        "id": "gAIbmvFEdVG5"
      },
      "execution_count": null,
      "outputs": []
    },
    {
      "cell_type": "code",
      "source": [
        "print('\\nTest set classification report:\\n\\n',\n",
        "      classification_report(y_test, y_test_pred))"
      ],
      "metadata": {
        "colab": {
          "base_uri": "https://localhost:8080/"
        },
        "id": "UZtya9TJdY72",
        "outputId": "060607e0-71d0-4aba-943c-7ba6308c1792"
      },
      "execution_count": null,
      "outputs": [
        {
          "output_type": "stream",
          "name": "stdout",
          "text": [
            "\n",
            "Test set classification report:\n",
            "\n",
            "               precision    recall  f1-score   support\n",
            "\n",
            "         ham       1.00      0.95      0.97        96\n",
            "        spam       0.76      1.00      0.86        16\n",
            "\n",
            "    accuracy                           0.96       112\n",
            "   macro avg       0.88      0.97      0.92       112\n",
            "weighted avg       0.97      0.96      0.96       112\n",
            "\n"
          ]
        }
      ]
    },
    {
      "cell_type": "markdown",
      "source": [
        "## 3. Sparse Embeddings + Feature Engineering"
      ],
      "metadata": {
        "id": "KAK0UeJ3dnUB"
      }
    },
    {
      "cell_type": "code",
      "source": [
        "X_train_smaller_cleaned = joblib.load(file_X_train_smaller_cleaned)"
      ],
      "metadata": {
        "id": "tzOGF1DddsDA"
      },
      "execution_count": null,
      "outputs": []
    },
    {
      "cell_type": "code",
      "source": [
        "X_train_final = pd.concat((pd.DataFrame(X_train_smaller_cleaned, columns=['cleaned_text']),\n",
        "                           pd.DataFrame(X_train_features, columns=feature_names)), axis=1)"
      ],
      "metadata": {
        "id": "vnqPY5MKfWXa"
      },
      "execution_count": null,
      "outputs": []
    },
    {
      "cell_type": "code",
      "source": [
        "X_train_final.head()"
      ],
      "metadata": {
        "colab": {
          "base_uri": "https://localhost:8080/",
          "height": 469
        },
        "id": "ciDc6tEFgzwe",
        "outputId": "d5cadf21-dc7f-4574-9aed-53ab1801207f"
      },
      "execution_count": null,
      "outputs": [
        {
          "output_type": "execute_result",
          "data": {
            "text/plain": [
              "                                        cleaned_text  count_words  \\\n",
              "0   wish family merry \\x\\ mas happy new year advance         24.0   \n",
              "1  sppok ur mob halloween collection nokia logo&p...          5.0   \n",
              "2  pdate_now double min 1000 txt orange tariff la...          4.0   \n",
              "3                                     cos want thing          7.0   \n",
              "4     garbage bag egg jam bread hannaford wheat chex         22.0   \n",
              "\n",
              "   count_characters  count_characters_no_space  avg_word_length  \\\n",
              "0             114.0                       90.0         3.600000   \n",
              "1              31.0                       27.0         4.500000   \n",
              "2              17.0                       14.0         2.800000   \n",
              "3              32.0                       26.0         3.250000   \n",
              "4             113.0                       94.0         4.086957   \n",
              "\n",
              "   count_numbers  count_sentences  noun_count  aux_count  verb_count  \\\n",
              "0            3.0              2.0         7.0        0.0         3.0   \n",
              "1            0.0              1.0         1.0        0.0         1.0   \n",
              "2            1.0              1.0         1.0        0.0         0.0   \n",
              "3            1.0              1.0         2.0        0.0         1.0   \n",
              "4            0.0              3.0         9.0        1.0         4.0   \n",
              "\n",
              "   adj_count  ner  \n",
              "0        3.0  5.0  \n",
              "1        0.0  0.0  \n",
              "2        0.0  1.0  \n",
              "3        0.0  1.0  \n",
              "4        0.0  3.0  "
            ],
            "text/html": [
              "\n",
              "  <div id=\"df-373c80a0-08cf-4966-840c-aacc72a6331b\" class=\"colab-df-container\">\n",
              "    <div>\n",
              "<style scoped>\n",
              "    .dataframe tbody tr th:only-of-type {\n",
              "        vertical-align: middle;\n",
              "    }\n",
              "\n",
              "    .dataframe tbody tr th {\n",
              "        vertical-align: top;\n",
              "    }\n",
              "\n",
              "    .dataframe thead th {\n",
              "        text-align: right;\n",
              "    }\n",
              "</style>\n",
              "<table border=\"1\" class=\"dataframe\">\n",
              "  <thead>\n",
              "    <tr style=\"text-align: right;\">\n",
              "      <th></th>\n",
              "      <th>cleaned_text</th>\n",
              "      <th>count_words</th>\n",
              "      <th>count_characters</th>\n",
              "      <th>count_characters_no_space</th>\n",
              "      <th>avg_word_length</th>\n",
              "      <th>count_numbers</th>\n",
              "      <th>count_sentences</th>\n",
              "      <th>noun_count</th>\n",
              "      <th>aux_count</th>\n",
              "      <th>verb_count</th>\n",
              "      <th>adj_count</th>\n",
              "      <th>ner</th>\n",
              "    </tr>\n",
              "  </thead>\n",
              "  <tbody>\n",
              "    <tr>\n",
              "      <th>0</th>\n",
              "      <td>wish family merry \\x\\ mas happy new year advance</td>\n",
              "      <td>24.0</td>\n",
              "      <td>114.0</td>\n",
              "      <td>90.0</td>\n",
              "      <td>3.600000</td>\n",
              "      <td>3.0</td>\n",
              "      <td>2.0</td>\n",
              "      <td>7.0</td>\n",
              "      <td>0.0</td>\n",
              "      <td>3.0</td>\n",
              "      <td>3.0</td>\n",
              "      <td>5.0</td>\n",
              "    </tr>\n",
              "    <tr>\n",
              "      <th>1</th>\n",
              "      <td>sppok ur mob halloween collection nokia logo&amp;p...</td>\n",
              "      <td>5.0</td>\n",
              "      <td>31.0</td>\n",
              "      <td>27.0</td>\n",
              "      <td>4.500000</td>\n",
              "      <td>0.0</td>\n",
              "      <td>1.0</td>\n",
              "      <td>1.0</td>\n",
              "      <td>0.0</td>\n",
              "      <td>1.0</td>\n",
              "      <td>0.0</td>\n",
              "      <td>0.0</td>\n",
              "    </tr>\n",
              "    <tr>\n",
              "      <th>2</th>\n",
              "      <td>pdate_now double min 1000 txt orange tariff la...</td>\n",
              "      <td>4.0</td>\n",
              "      <td>17.0</td>\n",
              "      <td>14.0</td>\n",
              "      <td>2.800000</td>\n",
              "      <td>1.0</td>\n",
              "      <td>1.0</td>\n",
              "      <td>1.0</td>\n",
              "      <td>0.0</td>\n",
              "      <td>0.0</td>\n",
              "      <td>0.0</td>\n",
              "      <td>1.0</td>\n",
              "    </tr>\n",
              "    <tr>\n",
              "      <th>3</th>\n",
              "      <td>cos want thing</td>\n",
              "      <td>7.0</td>\n",
              "      <td>32.0</td>\n",
              "      <td>26.0</td>\n",
              "      <td>3.250000</td>\n",
              "      <td>1.0</td>\n",
              "      <td>1.0</td>\n",
              "      <td>2.0</td>\n",
              "      <td>0.0</td>\n",
              "      <td>1.0</td>\n",
              "      <td>0.0</td>\n",
              "      <td>1.0</td>\n",
              "    </tr>\n",
              "    <tr>\n",
              "      <th>4</th>\n",
              "      <td>garbage bag egg jam bread hannaford wheat chex</td>\n",
              "      <td>22.0</td>\n",
              "      <td>113.0</td>\n",
              "      <td>94.0</td>\n",
              "      <td>4.086957</td>\n",
              "      <td>0.0</td>\n",
              "      <td>3.0</td>\n",
              "      <td>9.0</td>\n",
              "      <td>1.0</td>\n",
              "      <td>4.0</td>\n",
              "      <td>0.0</td>\n",
              "      <td>3.0</td>\n",
              "    </tr>\n",
              "  </tbody>\n",
              "</table>\n",
              "</div>\n",
              "    <div class=\"colab-df-buttons\">\n",
              "\n",
              "  <div class=\"colab-df-container\">\n",
              "    <button class=\"colab-df-convert\" onclick=\"convertToInteractive('df-373c80a0-08cf-4966-840c-aacc72a6331b')\"\n",
              "            title=\"Convert this dataframe to an interactive table.\"\n",
              "            style=\"display:none;\">\n",
              "\n",
              "  <svg xmlns=\"http://www.w3.org/2000/svg\" height=\"24px\" viewBox=\"0 -960 960 960\">\n",
              "    <path d=\"M120-120v-720h720v720H120Zm60-500h600v-160H180v160Zm220 220h160v-160H400v160Zm0 220h160v-160H400v160ZM180-400h160v-160H180v160Zm440 0h160v-160H620v160ZM180-180h160v-160H180v160Zm440 0h160v-160H620v160Z\"/>\n",
              "  </svg>\n",
              "    </button>\n",
              "\n",
              "  <style>\n",
              "    .colab-df-container {\n",
              "      display:flex;\n",
              "      gap: 12px;\n",
              "    }\n",
              "\n",
              "    .colab-df-convert {\n",
              "      background-color: #E8F0FE;\n",
              "      border: none;\n",
              "      border-radius: 50%;\n",
              "      cursor: pointer;\n",
              "      display: none;\n",
              "      fill: #1967D2;\n",
              "      height: 32px;\n",
              "      padding: 0 0 0 0;\n",
              "      width: 32px;\n",
              "    }\n",
              "\n",
              "    .colab-df-convert:hover {\n",
              "      background-color: #E2EBFA;\n",
              "      box-shadow: 0px 1px 2px rgba(60, 64, 67, 0.3), 0px 1px 3px 1px rgba(60, 64, 67, 0.15);\n",
              "      fill: #174EA6;\n",
              "    }\n",
              "\n",
              "    .colab-df-buttons div {\n",
              "      margin-bottom: 4px;\n",
              "    }\n",
              "\n",
              "    [theme=dark] .colab-df-convert {\n",
              "      background-color: #3B4455;\n",
              "      fill: #D2E3FC;\n",
              "    }\n",
              "\n",
              "    [theme=dark] .colab-df-convert:hover {\n",
              "      background-color: #434B5C;\n",
              "      box-shadow: 0px 1px 3px 1px rgba(0, 0, 0, 0.15);\n",
              "      filter: drop-shadow(0px 1px 2px rgba(0, 0, 0, 0.3));\n",
              "      fill: #FFFFFF;\n",
              "    }\n",
              "  </style>\n",
              "\n",
              "    <script>\n",
              "      const buttonEl =\n",
              "        document.querySelector('#df-373c80a0-08cf-4966-840c-aacc72a6331b button.colab-df-convert');\n",
              "      buttonEl.style.display =\n",
              "        google.colab.kernel.accessAllowed ? 'block' : 'none';\n",
              "\n",
              "      async function convertToInteractive(key) {\n",
              "        const element = document.querySelector('#df-373c80a0-08cf-4966-840c-aacc72a6331b');\n",
              "        const dataTable =\n",
              "          await google.colab.kernel.invokeFunction('convertToInteractive',\n",
              "                                                    [key], {});\n",
              "        if (!dataTable) return;\n",
              "\n",
              "        const docLinkHtml = 'Like what you see? Visit the ' +\n",
              "          '<a target=\"_blank\" href=https://colab.research.google.com/notebooks/data_table.ipynb>data table notebook</a>'\n",
              "          + ' to learn more about interactive tables.';\n",
              "        element.innerHTML = '';\n",
              "        dataTable['output_type'] = 'display_data';\n",
              "        await google.colab.output.renderOutput(dataTable, element);\n",
              "        const docLink = document.createElement('div');\n",
              "        docLink.innerHTML = docLinkHtml;\n",
              "        element.appendChild(docLink);\n",
              "      }\n",
              "    </script>\n",
              "  </div>\n",
              "\n",
              "\n",
              "<div id=\"df-0059d6fa-78b0-4ace-bc8d-237881b19a8e\">\n",
              "  <button class=\"colab-df-quickchart\" onclick=\"quickchart('df-0059d6fa-78b0-4ace-bc8d-237881b19a8e')\"\n",
              "            title=\"Suggest charts\"\n",
              "            style=\"display:none;\">\n",
              "\n",
              "<svg xmlns=\"http://www.w3.org/2000/svg\" height=\"24px\"viewBox=\"0 0 24 24\"\n",
              "     width=\"24px\">\n",
              "    <g>\n",
              "        <path d=\"M19 3H5c-1.1 0-2 .9-2 2v14c0 1.1.9 2 2 2h14c1.1 0 2-.9 2-2V5c0-1.1-.9-2-2-2zM9 17H7v-7h2v7zm4 0h-2V7h2v10zm4 0h-2v-4h2v4z\"/>\n",
              "    </g>\n",
              "</svg>\n",
              "  </button>\n",
              "\n",
              "<style>\n",
              "  .colab-df-quickchart {\n",
              "      --bg-color: #E8F0FE;\n",
              "      --fill-color: #1967D2;\n",
              "      --hover-bg-color: #E2EBFA;\n",
              "      --hover-fill-color: #174EA6;\n",
              "      --disabled-fill-color: #AAA;\n",
              "      --disabled-bg-color: #DDD;\n",
              "  }\n",
              "\n",
              "  [theme=dark] .colab-df-quickchart {\n",
              "      --bg-color: #3B4455;\n",
              "      --fill-color: #D2E3FC;\n",
              "      --hover-bg-color: #434B5C;\n",
              "      --hover-fill-color: #FFFFFF;\n",
              "      --disabled-bg-color: #3B4455;\n",
              "      --disabled-fill-color: #666;\n",
              "  }\n",
              "\n",
              "  .colab-df-quickchart {\n",
              "    background-color: var(--bg-color);\n",
              "    border: none;\n",
              "    border-radius: 50%;\n",
              "    cursor: pointer;\n",
              "    display: none;\n",
              "    fill: var(--fill-color);\n",
              "    height: 32px;\n",
              "    padding: 0;\n",
              "    width: 32px;\n",
              "  }\n",
              "\n",
              "  .colab-df-quickchart:hover {\n",
              "    background-color: var(--hover-bg-color);\n",
              "    box-shadow: 0 1px 2px rgba(60, 64, 67, 0.3), 0 1px 3px 1px rgba(60, 64, 67, 0.15);\n",
              "    fill: var(--button-hover-fill-color);\n",
              "  }\n",
              "\n",
              "  .colab-df-quickchart-complete:disabled,\n",
              "  .colab-df-quickchart-complete:disabled:hover {\n",
              "    background-color: var(--disabled-bg-color);\n",
              "    fill: var(--disabled-fill-color);\n",
              "    box-shadow: none;\n",
              "  }\n",
              "\n",
              "  .colab-df-spinner {\n",
              "    border: 2px solid var(--fill-color);\n",
              "    border-color: transparent;\n",
              "    border-bottom-color: var(--fill-color);\n",
              "    animation:\n",
              "      spin 1s steps(1) infinite;\n",
              "  }\n",
              "\n",
              "  @keyframes spin {\n",
              "    0% {\n",
              "      border-color: transparent;\n",
              "      border-bottom-color: var(--fill-color);\n",
              "      border-left-color: var(--fill-color);\n",
              "    }\n",
              "    20% {\n",
              "      border-color: transparent;\n",
              "      border-left-color: var(--fill-color);\n",
              "      border-top-color: var(--fill-color);\n",
              "    }\n",
              "    30% {\n",
              "      border-color: transparent;\n",
              "      border-left-color: var(--fill-color);\n",
              "      border-top-color: var(--fill-color);\n",
              "      border-right-color: var(--fill-color);\n",
              "    }\n",
              "    40% {\n",
              "      border-color: transparent;\n",
              "      border-right-color: var(--fill-color);\n",
              "      border-top-color: var(--fill-color);\n",
              "    }\n",
              "    60% {\n",
              "      border-color: transparent;\n",
              "      border-right-color: var(--fill-color);\n",
              "    }\n",
              "    80% {\n",
              "      border-color: transparent;\n",
              "      border-right-color: var(--fill-color);\n",
              "      border-bottom-color: var(--fill-color);\n",
              "    }\n",
              "    90% {\n",
              "      border-color: transparent;\n",
              "      border-bottom-color: var(--fill-color);\n",
              "    }\n",
              "  }\n",
              "</style>\n",
              "\n",
              "  <script>\n",
              "    async function quickchart(key) {\n",
              "      const quickchartButtonEl =\n",
              "        document.querySelector('#' + key + ' button');\n",
              "      quickchartButtonEl.disabled = true;  // To prevent multiple clicks.\n",
              "      quickchartButtonEl.classList.add('colab-df-spinner');\n",
              "      try {\n",
              "        const charts = await google.colab.kernel.invokeFunction(\n",
              "            'suggestCharts', [key], {});\n",
              "      } catch (error) {\n",
              "        console.error('Error during call to suggestCharts:', error);\n",
              "      }\n",
              "      quickchartButtonEl.classList.remove('colab-df-spinner');\n",
              "      quickchartButtonEl.classList.add('colab-df-quickchart-complete');\n",
              "    }\n",
              "    (() => {\n",
              "      let quickchartButtonEl =\n",
              "        document.querySelector('#df-0059d6fa-78b0-4ace-bc8d-237881b19a8e button');\n",
              "      quickchartButtonEl.style.display =\n",
              "        google.colab.kernel.accessAllowed ? 'block' : 'none';\n",
              "    })();\n",
              "  </script>\n",
              "</div>\n",
              "\n",
              "    </div>\n",
              "  </div>\n"
            ],
            "application/vnd.google.colaboratory.intrinsic+json": {
              "type": "dataframe",
              "variable_name": "X_train_final",
              "summary": "{\n  \"name\": \"X_train_final\",\n  \"rows\": 446,\n  \"fields\": [\n    {\n      \"column\": \"cleaned_text\",\n      \"properties\": {\n        \"dtype\": \"category\",\n        \"samples\": [\n          \"\\\\hi kate lovely tonight ill phone tomorrow get sing guy give card xxx\\\\\",\n          \"guess want time watch\",\n          \"oops   < >\"\n        ],\n        \"num_unique_values\": 104,\n        \"semantic_type\": \"\",\n        \"description\": \"\"\n      }\n    },\n    {\n      \"column\": \"count_words\",\n      \"properties\": {\n        \"dtype\": \"number\",\n        \"std\": 11.587645032886213,\n        \"min\": 1.0,\n        \"max\": 116.0,\n        \"samples\": [\n          3.0,\n          26.0,\n          34.0\n        ],\n        \"num_unique_values\": 45,\n        \"semantic_type\": \"\",\n        \"description\": \"\"\n      }\n    },\n    {\n      \"column\": \"count_characters\",\n      \"properties\": {\n        \"dtype\": \"number\",\n        \"std\": 59.451619932609724,\n        \"min\": 5.0,\n        \"max\": 588.0,\n        \"samples\": [\n          101.0,\n          78.0,\n          171.0\n        ],\n        \"num_unique_values\": 147,\n        \"semantic_type\": \"\",\n        \"description\": \"\"\n      }\n    },\n    {\n      \"column\": \"count_characters_no_space\",\n      \"properties\": {\n        \"dtype\": \"number\",\n        \"std\": 48.06881021455742,\n        \"min\": 5.0,\n        \"max\": 464.0,\n        \"samples\": [\n          19.0,\n          97.0,\n          124.0\n        ],\n        \"num_unique_values\": 122,\n        \"semantic_type\": \"\",\n        \"description\": \"\"\n      }\n    },\n    {\n      \"column\": \"avg_word_length\",\n      \"properties\": {\n        \"dtype\": \"number\",\n        \"std\": 0.7225906717426788,\n        \"min\": 1.6666666666666667,\n        \"max\": 6.166666666666667,\n        \"samples\": [\n          3.727272727272727,\n          3.0714285714285716,\n          3.1578947368421053\n        ],\n        \"num_unique_values\": 221,\n        \"semantic_type\": \"\",\n        \"description\": \"\"\n      }\n    },\n    {\n      \"column\": \"count_numbers\",\n      \"properties\": {\n        \"dtype\": \"number\",\n        \"std\": 1.017883126074084,\n        \"min\": 0.0,\n        \"max\": 8.0,\n        \"samples\": [\n          3.0,\n          0.0,\n          5.0\n        ],\n        \"num_unique_values\": 7,\n        \"semantic_type\": \"\",\n        \"description\": \"\"\n      }\n    },\n    {\n      \"column\": \"count_sentences\",\n      \"properties\": {\n        \"dtype\": \"number\",\n        \"std\": 1.3824399526575044,\n        \"min\": 1.0,\n        \"max\": 15.0,\n        \"samples\": [\n          7.0,\n          1.0,\n          8.0\n        ],\n        \"num_unique_values\": 9,\n        \"semantic_type\": \"\",\n        \"description\": \"\"\n      }\n    },\n    {\n      \"column\": \"noun_count\",\n      \"properties\": {\n        \"dtype\": \"number\",\n        \"std\": 4.389863597355378,\n        \"min\": 0.0,\n        \"max\": 37.0,\n        \"samples\": [\n          0.0,\n          13.0,\n          7.0\n        ],\n        \"num_unique_values\": 24,\n        \"semantic_type\": \"\",\n        \"description\": \"\"\n      }\n    },\n    {\n      \"column\": \"aux_count\",\n      \"properties\": {\n        \"dtype\": \"number\",\n        \"std\": 1.0374384467332587,\n        \"min\": 0.0,\n        \"max\": 6.0,\n        \"samples\": [\n          0.0,\n          1.0,\n          4.0\n        ],\n        \"num_unique_values\": 7,\n        \"semantic_type\": \"\",\n        \"description\": \"\"\n      }\n    },\n    {\n      \"column\": \"verb_count\",\n      \"properties\": {\n        \"dtype\": \"number\",\n        \"std\": 2.199754013648413,\n        \"min\": 0.0,\n        \"max\": 20.0,\n        \"samples\": [\n          11.0,\n          10.0,\n          3.0\n        ],\n        \"num_unique_values\": 14,\n        \"semantic_type\": \"\",\n        \"description\": \"\"\n      }\n    },\n    {\n      \"column\": \"adj_count\",\n      \"properties\": {\n        \"dtype\": \"number\",\n        \"std\": 1.1791849516505128,\n        \"min\": 0.0,\n        \"max\": 6.0,\n        \"samples\": [\n          3.0,\n          0.0,\n          6.0\n        ],\n        \"num_unique_values\": 7,\n        \"semantic_type\": \"\",\n        \"description\": \"\"\n      }\n    },\n    {\n      \"column\": \"ner\",\n      \"properties\": {\n        \"dtype\": \"number\",\n        \"std\": 1.6096023643279305,\n        \"min\": 0.0,\n        \"max\": 8.0,\n        \"samples\": [\n          4.0,\n          0.0,\n          8.0\n        ],\n        \"num_unique_values\": 9,\n        \"semantic_type\": \"\",\n        \"description\": \"\"\n      }\n    }\n  ]\n}"
            }
          },
          "metadata": {},
          "execution_count": 62
        }
      ]
    },
    {
      "cell_type": "code",
      "source": [
        "X_train_final.info()"
      ],
      "metadata": {
        "colab": {
          "base_uri": "https://localhost:8080/"
        },
        "id": "_h-Ipf7fg86F",
        "outputId": "9a3835ab-2628-4ddf-c1d1-fa14d2e2e4ec"
      },
      "execution_count": null,
      "outputs": [
        {
          "output_type": "stream",
          "name": "stdout",
          "text": [
            "<class 'pandas.core.frame.DataFrame'>\n",
            "RangeIndex: 446 entries, 0 to 445\n",
            "Data columns (total 12 columns):\n",
            " #   Column                     Non-Null Count  Dtype  \n",
            "---  ------                     --------------  -----  \n",
            " 0   cleaned_text               112 non-null    object \n",
            " 1   count_words                446 non-null    float64\n",
            " 2   count_characters           446 non-null    float64\n",
            " 3   count_characters_no_space  446 non-null    float64\n",
            " 4   avg_word_length            446 non-null    float64\n",
            " 5   count_numbers              446 non-null    float64\n",
            " 6   count_sentences            446 non-null    float64\n",
            " 7   noun_count                 446 non-null    float64\n",
            " 8   aux_count                  446 non-null    float64\n",
            " 9   verb_count                 446 non-null    float64\n",
            " 10  adj_count                  446 non-null    float64\n",
            " 11  ner                        446 non-null    float64\n",
            "dtypes: float64(11), object(1)\n",
            "memory usage: 41.9+ KB\n"
          ]
        }
      ]
    },
    {
      "cell_type": "code",
      "source": [
        "subset = X_train_final[0:10]"
      ],
      "metadata": {
        "id": "aA2t7AIjhCQW"
      },
      "execution_count": null,
      "outputs": []
    },
    {
      "cell_type": "code",
      "source": [
        "subset.shape"
      ],
      "metadata": {
        "colab": {
          "base_uri": "https://localhost:8080/"
        },
        "id": "HyPj9PxYhGDh",
        "outputId": "98cb29a7-2e1d-40da-db2c-5ed7c4b4496e"
      },
      "execution_count": null,
      "outputs": [
        {
          "output_type": "execute_result",
          "data": {
            "text/plain": [
              "(10, 12)"
            ]
          },
          "metadata": {},
          "execution_count": 65
        }
      ]
    },
    {
      "cell_type": "code",
      "source": [
        "class SparseTransformer(TransformerMixin, BaseEstimator):\n",
        "    def __init__(self):\n",
        "        pass\n",
        "\n",
        "    def fit(self, X, y=None):\n",
        "        return self\n",
        "\n",
        "    def transform(self, X, y=None):\n",
        "        return csr_matrix(X)"
      ],
      "metadata": {
        "id": "F90u_Qv3hKNk"
      },
      "execution_count": null,
      "outputs": []
    },
    {
      "cell_type": "code",
      "source": [
        "sparse_features = Pipeline([('sparse', SparseTransformer()), ])\n",
        "vectorizer = Pipeline([('tfidf', TfidfVectorizer(max_features=5)), ])"
      ],
      "metadata": {
        "id": "bIXeJ1X5hOAl"
      },
      "execution_count": null,
      "outputs": []
    },
    {
      "cell_type": "code",
      "source": [
        "sparse_features.fit_transform(subset.iloc[:, 1:])"
      ],
      "metadata": {
        "colab": {
          "base_uri": "https://localhost:8080/"
        },
        "id": "XaAi9a-whSRP",
        "outputId": "d0977791-afe6-4aae-c3a0-f1f5c2b89d8d"
      },
      "execution_count": null,
      "outputs": [
        {
          "output_type": "execute_result",
          "data": {
            "text/plain": [
              "<10x11 sparse matrix of type '<class 'numpy.float64'>'\n",
              "\twith 83 stored elements in Compressed Sparse Row format>"
            ]
          },
          "metadata": {},
          "execution_count": 68
        }
      ]
    },
    {
      "cell_type": "code",
      "source": [
        "vectorizer.fit_transform(subset.iloc[:, 0])"
      ],
      "metadata": {
        "colab": {
          "base_uri": "https://localhost:8080/"
        },
        "id": "UXxDxKbGhjgB",
        "outputId": "365d888d-c3a4-4e9a-b5f8-d3fa00ad8dfb"
      },
      "execution_count": null,
      "outputs": [
        {
          "output_type": "execute_result",
          "data": {
            "text/plain": [
              "<10x5 sparse matrix of type '<class 'numpy.float64'>'\n",
              "\twith 9 stored elements in Compressed Sparse Row format>"
            ]
          },
          "metadata": {},
          "execution_count": 69
        }
      ]
    },
    {
      "cell_type": "code",
      "source": [
        "combined_features = ColumnTransformer(\n",
        "    transformers=[\n",
        "        ('tfidf', vectorizer, 'cleaned_text'),\n",
        "    ], remainder=sparse_features\n",
        ")"
      ],
      "metadata": {
        "id": "AzeBAKAjhtQx"
      },
      "execution_count": null,
      "outputs": []
    },
    {
      "cell_type": "code",
      "source": [
        "test = combined_features.fit_transform(subset)"
      ],
      "metadata": {
        "id": "UAPaRA8VhwRV"
      },
      "execution_count": null,
      "outputs": []
    },
    {
      "cell_type": "code",
      "source": [
        "test\n"
      ],
      "metadata": {
        "colab": {
          "base_uri": "https://localhost:8080/"
        },
        "id": "06TmKUBchxn9",
        "outputId": "dddb0b0d-1278-41e8-e009-e8ff9ecfca82"
      },
      "execution_count": null,
      "outputs": [
        {
          "output_type": "execute_result",
          "data": {
            "text/plain": [
              "array([[  0.        ,   0.        ,   0.        ,   0.        ,\n",
              "          0.        ,  24.        , 114.        ,  90.        ,\n",
              "          3.6       ,   3.        ,   2.        ,   7.        ,\n",
              "          0.        ,   3.        ,   3.        ,   5.        ],\n",
              "       [  0.        ,   0.5       ,   0.5       ,   0.5       ,\n",
              "          0.5       ,   5.        ,  31.        ,  27.        ,\n",
              "          4.5       ,   0.        ,   1.        ,   1.        ,\n",
              "          0.        ,   1.        ,   0.        ,   0.        ],\n",
              "       [  0.56183624,   0.        ,   0.47761213,   0.47761213,\n",
              "          0.47761213,   4.        ,  17.        ,  14.        ,\n",
              "          2.8       ,   1.        ,   1.        ,   1.        ,\n",
              "          0.        ,   0.        ,   0.        ,   1.        ],\n",
              "       [  0.        ,   0.        ,   0.        ,   0.        ,\n",
              "          0.        ,   7.        ,  32.        ,  26.        ,\n",
              "          3.25      ,   1.        ,   1.        ,   2.        ,\n",
              "          0.        ,   1.        ,   0.        ,   1.        ],\n",
              "       [  0.        ,   0.        ,   0.        ,   0.        ,\n",
              "          0.        ,  22.        , 113.        ,  94.        ,\n",
              "          4.08695652,   0.        ,   3.        ,   9.        ,\n",
              "          1.        ,   4.        ,   0.        ,   3.        ],\n",
              "       [  0.        ,   0.        ,   0.        ,   0.        ,\n",
              "          0.        ,   7.        ,  33.        ,  27.        ,\n",
              "          3.375     ,   0.        ,   1.        ,   2.        ,\n",
              "          0.        ,   1.        ,   1.        ,   0.        ],\n",
              "       [  0.        ,   1.        ,   0.        ,   0.        ,\n",
              "          0.        ,   4.        ,  25.        ,  22.        ,\n",
              "          4.4       ,   0.        ,   2.        ,   1.        ,\n",
              "          0.        ,   1.        ,   0.        ,   0.        ],\n",
              "       [  0.        ,   0.        ,   0.        ,   0.        ,\n",
              "          0.        ,  27.        , 155.        , 134.        ,\n",
              "          4.78571429,   0.        ,   3.        ,  14.        ,\n",
              "          0.        ,   2.        ,   1.        ,   5.        ],\n",
              "       [  0.        ,   0.        ,   0.        ,   0.        ,\n",
              "          0.        ,  11.        ,  58.        ,  48.        ,\n",
              "          4.        ,   0.        ,   1.        ,   4.        ,\n",
              "          1.        ,   1.        ,   2.        ,   0.        ],\n",
              "       [  0.        ,   0.        ,   0.        ,   0.        ,\n",
              "          0.        ,   8.        ,  40.        ,  33.        ,\n",
              "          3.66666667,   0.        ,   2.        ,   3.        ,\n",
              "          0.        ,   1.        ,   0.        ,   0.        ]])"
            ]
          },
          "metadata": {},
          "execution_count": 72
        }
      ]
    },
    {
      "cell_type": "code",
      "source": [
        "test.dtype"
      ],
      "metadata": {
        "colab": {
          "base_uri": "https://localhost:8080/"
        },
        "id": "4r1WGeTyh3Yd",
        "outputId": "a170cd9a-60a1-459c-deb4-5e533f10ee46"
      },
      "execution_count": null,
      "outputs": [
        {
          "output_type": "execute_result",
          "data": {
            "text/plain": [
              "dtype('float64')"
            ]
          },
          "metadata": {},
          "execution_count": 73
        }
      ]
    },
    {
      "cell_type": "code",
      "source": [
        "classifier_3 = Pipeline([('combined_features',  combined_features),\n",
        "                         ('classifier', LogisticRegression(max_iter=10000)),\n",
        "                         ])\n"
      ],
      "metadata": {
        "id": "xtayQlKih6_7"
      },
      "execution_count": null,
      "outputs": []
    },
    {
      "cell_type": "code",
      "source": [
        "classifier_3.get_params().keys()"
      ],
      "metadata": {
        "colab": {
          "base_uri": "https://localhost:8080/"
        },
        "id": "bPFj_YwSh-IL",
        "outputId": "ff882e19-8733-424a-f3c5-2d66a2d8ae04"
      },
      "execution_count": null,
      "outputs": [
        {
          "output_type": "execute_result",
          "data": {
            "text/plain": [
              "dict_keys(['memory', 'steps', 'verbose', 'combined_features', 'classifier', 'combined_features__n_jobs', 'combined_features__remainder__memory', 'combined_features__remainder__steps', 'combined_features__remainder__verbose', 'combined_features__remainder__sparse', 'combined_features__remainder', 'combined_features__sparse_threshold', 'combined_features__transformer_weights', 'combined_features__transformers', 'combined_features__verbose', 'combined_features__verbose_feature_names_out', 'combined_features__tfidf', 'combined_features__tfidf__memory', 'combined_features__tfidf__steps', 'combined_features__tfidf__verbose', 'combined_features__tfidf__tfidf', 'combined_features__tfidf__tfidf__analyzer', 'combined_features__tfidf__tfidf__binary', 'combined_features__tfidf__tfidf__decode_error', 'combined_features__tfidf__tfidf__dtype', 'combined_features__tfidf__tfidf__encoding', 'combined_features__tfidf__tfidf__input', 'combined_features__tfidf__tfidf__lowercase', 'combined_features__tfidf__tfidf__max_df', 'combined_features__tfidf__tfidf__max_features', 'combined_features__tfidf__tfidf__min_df', 'combined_features__tfidf__tfidf__ngram_range', 'combined_features__tfidf__tfidf__norm', 'combined_features__tfidf__tfidf__preprocessor', 'combined_features__tfidf__tfidf__smooth_idf', 'combined_features__tfidf__tfidf__stop_words', 'combined_features__tfidf__tfidf__strip_accents', 'combined_features__tfidf__tfidf__sublinear_tf', 'combined_features__tfidf__tfidf__token_pattern', 'combined_features__tfidf__tfidf__tokenizer', 'combined_features__tfidf__tfidf__use_idf', 'combined_features__tfidf__tfidf__vocabulary', 'classifier__C', 'classifier__class_weight', 'classifier__dual', 'classifier__fit_intercept', 'classifier__intercept_scaling', 'classifier__l1_ratio', 'classifier__max_iter', 'classifier__multi_class', 'classifier__n_jobs', 'classifier__penalty', 'classifier__random_state', 'classifier__solver', 'classifier__tol', 'classifier__verbose', 'classifier__warm_start'])"
            ]
          },
          "metadata": {},
          "execution_count": 75
        }
      ]
    },
    {
      "cell_type": "code",
      "source": [
        "param_grid_classifier_3 = {'combined_features__tfidf__tfidf__max_features': [500, 1000, 2000],\n",
        "                           'classifier__C': [0.1, 1, 10], 'classifier__class_weight': [ \"balanced\"]\n",
        "                           }\n",
        "\n",
        "grid_classifier_3 = RandomizedSearchCV(estimator=classifier_3,\n",
        "                                 param_distributions=param_grid_classifier_3,\n",
        "                                 cv=3,scoring='f1_macro')\n",
        "\n",
        "# Fit the model on training data\n",
        "grid_classifier_3.fit(X_train_final, y_train)"
      ],
      "metadata": {
        "colab": {
          "base_uri": "https://localhost:8080/",
          "height": 1000
        },
        "id": "l2Q5iazKFtQN",
        "outputId": "ad96f6a4-96f3-46ca-dabb-c29b4ccfe820"
      },
      "execution_count": null,
      "outputs": [
        {
          "output_type": "stream",
          "name": "stderr",
          "text": [
            "/usr/local/lib/python3.10/dist-packages/sklearn/model_selection/_search.py:305: UserWarning: The total space of parameters 9 is smaller than n_iter=10. Running 9 iterations. For exhaustive searches, use GridSearchCV.\n",
            "  warnings.warn(\n"
          ]
        },
        {
          "output_type": "error",
          "ename": "ValueError",
          "evalue": "\nAll the 27 fits failed.\nIt is very likely that your model is misconfigured.\nYou can try to debug the error by setting error_score='raise'.\n\nBelow are more details about the failures:\n--------------------------------------------------------------------------------\n27 fits failed with the following error:\nTraceback (most recent call last):\n  File \"/usr/local/lib/python3.10/dist-packages/sklearn/model_selection/_validation.py\", line 686, in _fit_and_score\n    estimator.fit(X_train, y_train, **fit_params)\n  File \"/usr/local/lib/python3.10/dist-packages/sklearn/pipeline.py\", line 401, in fit\n    Xt = self._fit(X, y, **fit_params_steps)\n  File \"/usr/local/lib/python3.10/dist-packages/sklearn/pipeline.py\", line 359, in _fit\n    X, fitted_transformer = fit_transform_one_cached(\n  File \"/usr/local/lib/python3.10/dist-packages/joblib/memory.py\", line 353, in __call__\n    return self.func(*args, **kwargs)\n  File \"/usr/local/lib/python3.10/dist-packages/sklearn/pipeline.py\", line 893, in _fit_transform_one\n    res = transformer.fit_transform(X, y, **fit_params)\n  File \"/usr/local/lib/python3.10/dist-packages/sklearn/utils/_set_output.py\", line 140, in wrapped\n    data_to_wrap = f(self, X, *args, **kwargs)\n  File \"/usr/local/lib/python3.10/dist-packages/sklearn/compose/_column_transformer.py\", line 727, in fit_transform\n    result = self._fit_transform(X, y, _fit_transform_one)\n  File \"/usr/local/lib/python3.10/dist-packages/sklearn/compose/_column_transformer.py\", line 658, in _fit_transform\n    return Parallel(n_jobs=self.n_jobs)(\n  File \"/usr/local/lib/python3.10/dist-packages/sklearn/utils/parallel.py\", line 63, in __call__\n    return super().__call__(iterable_with_config)\n  File \"/usr/local/lib/python3.10/dist-packages/joblib/parallel.py\", line 1863, in __call__\n    return output if self.return_generator else list(output)\n  File \"/usr/local/lib/python3.10/dist-packages/joblib/parallel.py\", line 1792, in _get_sequential_output\n    res = func(*args, **kwargs)\n  File \"/usr/local/lib/python3.10/dist-packages/sklearn/utils/parallel.py\", line 123, in __call__\n    return self.function(*args, **kwargs)\n  File \"/usr/local/lib/python3.10/dist-packages/sklearn/pipeline.py\", line 893, in _fit_transform_one\n    res = transformer.fit_transform(X, y, **fit_params)\n  File \"/usr/local/lib/python3.10/dist-packages/sklearn/pipeline.py\", line 445, in fit_transform\n    return last_step.fit_transform(Xt, y, **fit_params_last_step)\n  File \"/usr/local/lib/python3.10/dist-packages/sklearn/feature_extraction/text.py\", line 2133, in fit_transform\n    X = super().fit_transform(raw_documents)\n  File \"/usr/local/lib/python3.10/dist-packages/sklearn/feature_extraction/text.py\", line 1388, in fit_transform\n    vocabulary, X = self._count_vocab(raw_documents, self.fixed_vocabulary_)\n  File \"/usr/local/lib/python3.10/dist-packages/sklearn/feature_extraction/text.py\", line 1275, in _count_vocab\n    for feature in analyze(doc):\n  File \"/usr/local/lib/python3.10/dist-packages/sklearn/feature_extraction/text.py\", line 106, in _analyze\n    doc = decoder(doc)\n  File \"/usr/local/lib/python3.10/dist-packages/sklearn/feature_extraction/text.py\", line 239, in decode\n    raise ValueError(\nValueError: np.nan is an invalid document, expected byte or unicode string.\n",
          "traceback": [
            "\u001b[0;31m---------------------------------------------------------------------------\u001b[0m",
            "\u001b[0;31mValueError\u001b[0m                                Traceback (most recent call last)",
            "\u001b[0;32m<ipython-input-79-34ddc105ac5c>\u001b[0m in \u001b[0;36m<cell line: 10>\u001b[0;34m()\u001b[0m\n\u001b[1;32m      8\u001b[0m \u001b[0;34m\u001b[0m\u001b[0m\n\u001b[1;32m      9\u001b[0m \u001b[0;31m# Fit the model on training data\u001b[0m\u001b[0;34m\u001b[0m\u001b[0;34m\u001b[0m\u001b[0m\n\u001b[0;32m---> 10\u001b[0;31m \u001b[0mgrid_classifier_3\u001b[0m\u001b[0;34m.\u001b[0m\u001b[0mfit\u001b[0m\u001b[0;34m(\u001b[0m\u001b[0mX_train_final\u001b[0m\u001b[0;34m,\u001b[0m \u001b[0my_train\u001b[0m\u001b[0;34m)\u001b[0m\u001b[0;34m\u001b[0m\u001b[0;34m\u001b[0m\u001b[0m\n\u001b[0m",
            "\u001b[0;32m/usr/local/lib/python3.10/dist-packages/sklearn/model_selection/_search.py\u001b[0m in \u001b[0;36mfit\u001b[0;34m(self, X, y, groups, **fit_params)\u001b[0m\n\u001b[1;32m    872\u001b[0m                 \u001b[0;32mreturn\u001b[0m \u001b[0mresults\u001b[0m\u001b[0;34m\u001b[0m\u001b[0;34m\u001b[0m\u001b[0m\n\u001b[1;32m    873\u001b[0m \u001b[0;34m\u001b[0m\u001b[0m\n\u001b[0;32m--> 874\u001b[0;31m             \u001b[0mself\u001b[0m\u001b[0;34m.\u001b[0m\u001b[0m_run_search\u001b[0m\u001b[0;34m(\u001b[0m\u001b[0mevaluate_candidates\u001b[0m\u001b[0;34m)\u001b[0m\u001b[0;34m\u001b[0m\u001b[0;34m\u001b[0m\u001b[0m\n\u001b[0m\u001b[1;32m    875\u001b[0m \u001b[0;34m\u001b[0m\u001b[0m\n\u001b[1;32m    876\u001b[0m             \u001b[0;31m# multimetric is determined here because in the case of a callable\u001b[0m\u001b[0;34m\u001b[0m\u001b[0;34m\u001b[0m\u001b[0m\n",
            "\u001b[0;32m/usr/local/lib/python3.10/dist-packages/sklearn/model_selection/_search.py\u001b[0m in \u001b[0;36m_run_search\u001b[0;34m(self, evaluate_candidates)\u001b[0m\n\u001b[1;32m   1766\u001b[0m     \u001b[0;32mdef\u001b[0m \u001b[0m_run_search\u001b[0m\u001b[0;34m(\u001b[0m\u001b[0mself\u001b[0m\u001b[0;34m,\u001b[0m \u001b[0mevaluate_candidates\u001b[0m\u001b[0;34m)\u001b[0m\u001b[0;34m:\u001b[0m\u001b[0;34m\u001b[0m\u001b[0;34m\u001b[0m\u001b[0m\n\u001b[1;32m   1767\u001b[0m         \u001b[0;34m\"\"\"Search n_iter candidates from param_distributions\"\"\"\u001b[0m\u001b[0;34m\u001b[0m\u001b[0;34m\u001b[0m\u001b[0m\n\u001b[0;32m-> 1768\u001b[0;31m         evaluate_candidates(\n\u001b[0m\u001b[1;32m   1769\u001b[0m             ParameterSampler(\n\u001b[1;32m   1770\u001b[0m                 \u001b[0mself\u001b[0m\u001b[0;34m.\u001b[0m\u001b[0mparam_distributions\u001b[0m\u001b[0;34m,\u001b[0m \u001b[0mself\u001b[0m\u001b[0;34m.\u001b[0m\u001b[0mn_iter\u001b[0m\u001b[0;34m,\u001b[0m \u001b[0mrandom_state\u001b[0m\u001b[0;34m=\u001b[0m\u001b[0mself\u001b[0m\u001b[0;34m.\u001b[0m\u001b[0mrandom_state\u001b[0m\u001b[0;34m\u001b[0m\u001b[0;34m\u001b[0m\u001b[0m\n",
            "\u001b[0;32m/usr/local/lib/python3.10/dist-packages/sklearn/model_selection/_search.py\u001b[0m in \u001b[0;36mevaluate_candidates\u001b[0;34m(candidate_params, cv, more_results)\u001b[0m\n\u001b[1;32m    849\u001b[0m                     )\n\u001b[1;32m    850\u001b[0m \u001b[0;34m\u001b[0m\u001b[0m\n\u001b[0;32m--> 851\u001b[0;31m                 \u001b[0m_warn_or_raise_about_fit_failures\u001b[0m\u001b[0;34m(\u001b[0m\u001b[0mout\u001b[0m\u001b[0;34m,\u001b[0m \u001b[0mself\u001b[0m\u001b[0;34m.\u001b[0m\u001b[0merror_score\u001b[0m\u001b[0;34m)\u001b[0m\u001b[0;34m\u001b[0m\u001b[0;34m\u001b[0m\u001b[0m\n\u001b[0m\u001b[1;32m    852\u001b[0m \u001b[0;34m\u001b[0m\u001b[0m\n\u001b[1;32m    853\u001b[0m                 \u001b[0;31m# For callable self.scoring, the return type is only know after\u001b[0m\u001b[0;34m\u001b[0m\u001b[0;34m\u001b[0m\u001b[0m\n",
            "\u001b[0;32m/usr/local/lib/python3.10/dist-packages/sklearn/model_selection/_validation.py\u001b[0m in \u001b[0;36m_warn_or_raise_about_fit_failures\u001b[0;34m(results, error_score)\u001b[0m\n\u001b[1;32m    365\u001b[0m                 \u001b[0;34mf\"Below are more details about the failures:\\n{fit_errors_summary}\"\u001b[0m\u001b[0;34m\u001b[0m\u001b[0;34m\u001b[0m\u001b[0m\n\u001b[1;32m    366\u001b[0m             )\n\u001b[0;32m--> 367\u001b[0;31m             \u001b[0;32mraise\u001b[0m \u001b[0mValueError\u001b[0m\u001b[0;34m(\u001b[0m\u001b[0mall_fits_failed_message\u001b[0m\u001b[0;34m)\u001b[0m\u001b[0;34m\u001b[0m\u001b[0;34m\u001b[0m\u001b[0m\n\u001b[0m\u001b[1;32m    368\u001b[0m \u001b[0;34m\u001b[0m\u001b[0m\n\u001b[1;32m    369\u001b[0m         \u001b[0;32melse\u001b[0m\u001b[0;34m:\u001b[0m\u001b[0;34m\u001b[0m\u001b[0;34m\u001b[0m\u001b[0m\n",
            "\u001b[0;31mValueError\u001b[0m: \nAll the 27 fits failed.\nIt is very likely that your model is misconfigured.\nYou can try to debug the error by setting error_score='raise'.\n\nBelow are more details about the failures:\n--------------------------------------------------------------------------------\n27 fits failed with the following error:\nTraceback (most recent call last):\n  File \"/usr/local/lib/python3.10/dist-packages/sklearn/model_selection/_validation.py\", line 686, in _fit_and_score\n    estimator.fit(X_train, y_train, **fit_params)\n  File \"/usr/local/lib/python3.10/dist-packages/sklearn/pipeline.py\", line 401, in fit\n    Xt = self._fit(X, y, **fit_params_steps)\n  File \"/usr/local/lib/python3.10/dist-packages/sklearn/pipeline.py\", line 359, in _fit\n    X, fitted_transformer = fit_transform_one_cached(\n  File \"/usr/local/lib/python3.10/dist-packages/joblib/memory.py\", line 353, in __call__\n    return self.func(*args, **kwargs)\n  File \"/usr/local/lib/python3.10/dist-packages/sklearn/pipeline.py\", line 893, in _fit_transform_one\n    res = transformer.fit_transform(X, y, **fit_params)\n  File \"/usr/local/lib/python3.10/dist-packages/sklearn/utils/_set_output.py\", line 140, in wrapped\n    data_to_wrap = f(self, X, *args, **kwargs)\n  File \"/usr/local/lib/python3.10/dist-packages/sklearn/compose/_column_transformer.py\", line 727, in fit_transform\n    result = self._fit_transform(X, y, _fit_transform_one)\n  File \"/usr/local/lib/python3.10/dist-packages/sklearn/compose/_column_transformer.py\", line 658, in _fit_transform\n    return Parallel(n_jobs=self.n_jobs)(\n  File \"/usr/local/lib/python3.10/dist-packages/sklearn/utils/parallel.py\", line 63, in __call__\n    return super().__call__(iterable_with_config)\n  File \"/usr/local/lib/python3.10/dist-packages/joblib/parallel.py\", line 1863, in __call__\n    return output if self.return_generator else list(output)\n  File \"/usr/local/lib/python3.10/dist-packages/joblib/parallel.py\", line 1792, in _get_sequential_output\n    res = func(*args, **kwargs)\n  File \"/usr/local/lib/python3.10/dist-packages/sklearn/utils/parallel.py\", line 123, in __call__\n    return self.function(*args, **kwargs)\n  File \"/usr/local/lib/python3.10/dist-packages/sklearn/pipeline.py\", line 893, in _fit_transform_one\n    res = transformer.fit_transform(X, y, **fit_params)\n  File \"/usr/local/lib/python3.10/dist-packages/sklearn/pipeline.py\", line 445, in fit_transform\n    return last_step.fit_transform(Xt, y, **fit_params_last_step)\n  File \"/usr/local/lib/python3.10/dist-packages/sklearn/feature_extraction/text.py\", line 2133, in fit_transform\n    X = super().fit_transform(raw_documents)\n  File \"/usr/local/lib/python3.10/dist-packages/sklearn/feature_extraction/text.py\", line 1388, in fit_transform\n    vocabulary, X = self._count_vocab(raw_documents, self.fixed_vocabulary_)\n  File \"/usr/local/lib/python3.10/dist-packages/sklearn/feature_extraction/text.py\", line 1275, in _count_vocab\n    for feature in analyze(doc):\n  File \"/usr/local/lib/python3.10/dist-packages/sklearn/feature_extraction/text.py\", line 106, in _analyze\n    doc = decoder(doc)\n  File \"/usr/local/lib/python3.10/dist-packages/sklearn/feature_extraction/text.py\", line 239, in decode\n    raise ValueError(\nValueError: np.nan is an invalid document, expected byte or unicode string.\n"
          ]
        }
      ]
    },
    {
      "cell_type": "code",
      "source": [
        "print(\n",
        "    \"Best cross-validation score: {:.2f}\".format(grid_classifier_3.best_score_))\n",
        "print(\"\\nBest parameters: \", grid_classifier_3.best_params_)\n",
        "print(\"\\nBest estimator: \", grid_classifier_3.best_estimator_)"
      ],
      "metadata": {
        "id": "G0TiDKUViMqy"
      },
      "execution_count": null,
      "outputs": []
    },
    {
      "cell_type": "code",
      "source": [
        "file_best_estimator_pipeline3_round1 = data_folder / \\\n",
        "    'pipeline3_round1_best_estimator.pkl'\n",
        "file_complete_grid_pipeline3_round1 = data_folder / \\\n",
        "    'pipeline3_round1_complete_grid.pkl'"
      ],
      "metadata": {
        "id": "8RufVPsgiQX0"
      },
      "execution_count": null,
      "outputs": []
    },
    {
      "cell_type": "code",
      "source": [
        "joblib.dump(grid_classifier_3.best_estimator_,\n",
        "            file_best_estimator_pipeline3_round1)\n",
        "joblib.dump(grid_classifier_3, file_complete_grid_pipeline3_round1)"
      ],
      "metadata": {
        "id": "rljfuhM9iX4D"
      },
      "execution_count": null,
      "outputs": []
    },
    {
      "cell_type": "code",
      "source": [
        "# load the saved model\n",
        "best_estimator_pipeline3_round1 = joblib.load(\n",
        "    file_best_estimator_pipeline3_round1)\n",
        "complete_grid_pipeline3_round1 = joblib.load(\n",
        "    file_complete_grid_pipeline3_round1)"
      ],
      "metadata": {
        "id": "cuc867dKidJo"
      },
      "execution_count": null,
      "outputs": []
    },
    {
      "cell_type": "code",
      "source": [
        "# plot learning curces\n",
        "plot_learning_curve(best_estimator_pipeline3_round1, 'Learning Curves',\n",
        "                    X_train_final, y_train, n_jobs=-1)"
      ],
      "metadata": {
        "id": "IKw1pqDIiguM"
      },
      "execution_count": null,
      "outputs": []
    },
    {
      "cell_type": "code",
      "source": [
        "# let's check the train scores\n",
        "print(best_estimator_pipeline3_round1.score(X_train_final, y_train))\n",
        "\n",
        "# let's check the cross validation score\n",
        "print(complete_grid_pipeline3_round1.best_score_)"
      ],
      "metadata": {
        "id": "en3GvJ84ilG3"
      },
      "execution_count": null,
      "outputs": []
    },
    {
      "cell_type": "code",
      "source": [
        "X_test.shape"
      ],
      "metadata": {
        "id": "Vy38CNb5ipc6"
      },
      "execution_count": null,
      "outputs": []
    },
    {
      "cell_type": "code",
      "source": [
        "# Final Pipeline\n",
        "def final_pipeline(text):\n",
        "    # cleaned_text = cp.SpacyPreprocessor(model='en_core_web_sm', batch_size = 1000).transform(text)\n",
        "    cleaned_text = joblib.load(file_X_test_smaller_cleaned)\n",
        "    X_features, feature_names = featurizer.fit_transform(text)\n",
        "    X_final = pd.concat((pd.DataFrame(cleaned_text, columns=['cleaned_text']),\n",
        "                         pd.DataFrame(X_features, columns=feature_names)), axis=1)\n",
        "    best_estimator_pipeline3_round1 = joblib.load(\n",
        "        file_best_estimator_pipeline3_round1)\n",
        "    predictions = best_estimator_pipeline3_round1.predict(X_final)\n",
        "    return predictions"
      ],
      "metadata": {
        "id": "GZJbwyfQiq3e"
      },
      "execution_count": null,
      "outputs": []
    },
    {
      "cell_type": "code",
      "source": [
        "y_test_pred = final_pipeline(X_test)"
      ],
      "metadata": {
        "id": "pw7C8qzJiuUA"
      },
      "execution_count": null,
      "outputs": []
    },
    {
      "cell_type": "code",
      "source": [
        "print('\\nTest set classification report:\\n\\n',\n",
        "      classification_report(y_test, y_test_pred))"
      ],
      "metadata": {
        "id": "teuvETokjQBo"
      },
      "execution_count": null,
      "outputs": []
    },
    {
      "cell_type": "code",
      "source": [],
      "metadata": {
        "id": "nMJX6TIFgy5O"
      },
      "execution_count": null,
      "outputs": []
    }
  ]
}